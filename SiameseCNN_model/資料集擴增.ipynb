{
 "cells": [
  {
   "cell_type": "code",
   "execution_count": 3,
   "id": "35ab6fbe",
   "metadata": {},
   "outputs": [
    {
     "name": "stdout",
     "output_type": "stream",
     "text": [
      "Processing...\n",
      "(1, 103, 96, 3)\n",
      "<class 'numpy.ndarray'>\n",
      "4\n",
      "done\n"
     ]
    }
   ],
   "source": [
    "# A 是有原始圖的資料夾，B 是放擴增圖片的資料夾\n",
    "\n",
    "from keras.preprocessing.image import ImageDataGenerator\n",
    "import cv2\n",
    "from os import listdir\n",
    "import numpy as np\n",
    "\n",
    "d='./A'\n",
    "\n",
    "datagen_vertical=ImageDataGenerator(vertical_flip=True,\n",
    "                                    horizontal_flip=False)\n",
    "datagen_horizontal=ImageDataGenerator(vertical_flip=False,\n",
    "                                      horizontal_flip=True)\n",
    "datagen_shear=ImageDataGenerator(shear_range=30.0)\n",
    "datagen_rotation=ImageDataGenerator(rotation_range=40)\n",
    "datagen_zoom=ImageDataGenerator(zoom_range=0.5)\n",
    "\n",
    "print(\"Processing...\")\n",
    "\n",
    "for file in listdir(d):\n",
    "    img=cv2.imread(d+'/'+file,3)\n",
    "    img=np.array(img)\n",
    "    img = np.expand_dims(img, 0)\n",
    "    print(img.shape)\n",
    "    print(type(img))\n",
    "    print(img.ndim)\n",
    "    img1=img.reshape(img.shape)\n",
    "    \n",
    "    i=1\n",
    "\n",
    "    for batch in datagen_vertical.flow(img1, batch_size=1, save_to_dir='./B', save_prefix='finv'+file.split('.')[0]):\n",
    "        i+=1\n",
    "        if i>1:\n",
    "            break\n",
    "    for batch in datagen_horizontal.flow(img1, batch_size=1, save_to_dir='./B', save_prefix='finh'+file.split('.')[0]):\n",
    "        i+=1\n",
    "        if i>=2:\n",
    "            break\n",
    "    for batch in datagen_shear.flow(img1, batch_size=1, save_to_dir='./B', save_prefix='fins'+file.split('.')[0]):\n",
    "        i+=1\n",
    "        if i>=2:\n",
    "            break\n",
    "    for batch in datagen_rotation.flow(img1, batch_size=1, save_to_dir='./B', save_prefix='finr'+file.split('.')[0]):\n",
    "        i+=1\n",
    "        if i>=2:\n",
    "            break\n",
    "    for batch in datagen_zoom.flow(img1, batch_size=1, save_to_dir='./B', save_prefix='finz'+file.split('.')[0]):\n",
    "        i+=1\n",
    "        if i>=2:\n",
    "            break\n",
    "print ('done')"
   ]
  },
  {
   "cell_type": "code",
   "execution_count": 7,
   "id": "606909ec",
   "metadata": {},
   "outputs": [
    {
     "name": "stdout",
     "output_type": "stream",
     "text": [
      "Processing...\n",
      "done\n"
     ]
    }
   ],
   "source": [
    "# Real (zoom_range=0.5)\n",
    "\n",
    "from keras.preprocessing.image import ImageDataGenerator\n",
    "import cv2\n",
    "from os import listdir\n",
    "import numpy as np\n",
    "\n",
    "d='./SOCOFing/Real'\n",
    "# d='./A'\n",
    "\n",
    "datagen_zoom=ImageDataGenerator(zoom_range=0.5)\n",
    "\n",
    "print(\"Processing...\")\n",
    "\n",
    "for file in listdir(d):\n",
    "    img=cv2.imread(d+'/'+file,3)\n",
    "    img=np.array(img)\n",
    "    img = np.expand_dims(img, 0)\n",
    "    img1=img.reshape(img.shape)\n",
    "    \n",
    "    i=0\n",
    "\n",
    "    for batch in datagen_zoom.flow(img1, batch_size=1, save_to_dir='./B', save_prefix=file.split('.')[0]):\n",
    "        i+=1\n",
    "        if i>=3:\n",
    "            break\n",
    "            \n",
    "print ('done')"
   ]
  },
  {
   "cell_type": "code",
   "execution_count": null,
   "id": "0651ad51",
   "metadata": {},
   "outputs": [],
   "source": []
  }
 ],
 "metadata": {
  "kernelspec": {
   "display_name": "efficientnet",
   "language": "python",
   "name": "efficientnet"
  },
  "language_info": {
   "codemirror_mode": {
    "name": "ipython",
    "version": 3
   },
   "file_extension": ".py",
   "mimetype": "text/x-python",
   "name": "python",
   "nbconvert_exporter": "python",
   "pygments_lexer": "ipython3",
   "version": "3.7.13"
  }
 },
 "nbformat": 4,
 "nbformat_minor": 5
}
