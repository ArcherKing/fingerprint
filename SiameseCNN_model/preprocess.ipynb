{
 "cells": [
  {
   "cell_type": "code",
   "execution_count": 2,
   "metadata": {},
   "outputs": [],
   "source": [
    "import cv2\n",
    "import matplotlib.pyplot as plt\n",
    "import numpy as np\n",
    "\n",
    "import glob, os"
   ]
  },
  {
   "cell_type": "code",
   "execution_count": 7,
   "metadata": {},
   "outputs": [],
   "source": [
    "def extract_label(img_path):\n",
    "    filename, _ = os.path.splitext(os.path.basename(img_path))\n",
    "    \n",
    "    subject_id, etc = filename.split('__')\n",
    "    gender, lr, finger, _ = etc.split('_')\n",
    "    \n",
    "    gender = 0 if gender == 'M' else 1\n",
    "    lr = 0 if lr =='Left' else 1\n",
    "    \n",
    "    if finger == 'thumb':\n",
    "        finger = 0\n",
    "    elif finger == 'index':\n",
    "        finger = 1\n",
    "    elif finger == 'middle':\n",
    "        finger = 2\n",
    "    elif finger == 'ring':\n",
    "        finger = 3\n",
    "    elif finger == 'little':\n",
    "        finger = 4\n",
    "        \n",
    "    return np.array([subject_id, gender, lr, finger], dtype=np.uint16)\n",
    "\n",
    "def extract_label2(img_path):\n",
    "    filename, _ = os.path.splitext(os.path.basename(img_path))\n",
    "    \n",
    "    subject_id, etc = filename.split('__')\n",
    "    gender, lr, finger, _, _ = etc.split('_')\n",
    "    \n",
    "    gender = 0 if gender == 'M' else 1\n",
    "    lr = 0 if lr =='Left' else 1\n",
    "    \n",
    "    if finger == 'thumb':\n",
    "        finger = 0\n",
    "    elif finger == 'index':\n",
    "        finger = 1\n",
    "    elif finger == 'middle':\n",
    "        finger = 2\n",
    "    elif finger == 'ring':\n",
    "        finger = 3\n",
    "    elif finger == 'little':\n",
    "        finger = 4\n",
    "        \n",
    "    return np.array([subject_id, gender, lr, finger], dtype=np.uint16)\n",
    "\n",
    "def extract_label3(img_path):\n",
    "    filename, _ = os.path.splitext(os.path.basename(img_path))\n",
    "    \n",
    "    subject_id, etc = filename.split('__')\n",
    "    gender, lr, finger, _, _, _ = etc.split('_')\n",
    "    \n",
    "    gender = 0 if gender == 'M' else 1\n",
    "    lr = 0 if lr =='Left' else 1\n",
    "    \n",
    "    if finger == 'thumb':\n",
    "        finger = 0\n",
    "    elif finger == 'index':\n",
    "        finger = 1\n",
    "    elif finger == 'middle':\n",
    "        finger = 2\n",
    "    elif finger == 'ring':\n",
    "        finger = 3\n",
    "    elif finger == 'little':\n",
    "        finger = 4\n",
    "        \n",
    "    return np.array([subject_id, gender, lr, finger], dtype=np.uint16)"
   ]
  },
  {
   "cell_type": "code",
   "execution_count": 4,
   "metadata": {},
   "outputs": [
    {
     "name": "stdout",
     "output_type": "stream",
     "text": [
      "6000\n"
     ]
    },
    {
     "name": "stderr",
     "output_type": "stream",
     "text": [
      "C:\\Users\\ArcherSeven\\anaconda3\\envs\\ai37\\lib\\site-packages\\matplotlib\\text.py:1223: FutureWarning: elementwise comparison failed; returning scalar instead, but in the future will perform elementwise comparison\n",
      "  if s != self._text:\n"
     ]
    },
    {
     "data": {
      "text/plain": [
       "<matplotlib.image.AxesImage at 0x2017332f808>"
      ]
     },
     "execution_count": 4,
     "metadata": {},
     "output_type": "execute_result"
    },
    {
     "data": {
      "image/png": "[encoded data removed]",
      "text/plain": [
       "<Figure size 72x72 with 1 Axes>"
      ]
     },
     "metadata": {
      "needs_background": "light"
     },
     "output_type": "display_data"
    }
   ],
   "source": [
    "img_list = sorted(glob.glob('SOCOFing/Real/*.BMP'))\n",
    "print(len(img_list))\n",
    "\n",
    "imgs = np.empty((len(img_list), 96, 96), dtype=np.uint8)\n",
    "labels = np.empty((len(img_list), 4), dtype=np.uint16)\n",
    "\n",
    "for i, img_path in enumerate(img_list):\n",
    "    img = cv2.imread(img_path, cv2.IMREAD_GRAYSCALE)\n",
    "    img = cv2.resize(img, (96, 96))\n",
    "    imgs[i] = img\n",
    "    \n",
    "    # subject_id, gender, lr, finger\n",
    "    labels[i] = extract_label(img_path)\n",
    "    \n",
    "np.savez('dataset/x_real.npz', data=imgs)\n",
    "np.save('dataset/y_real.npy', labels)\n",
    "\n",
    "plt.figure(figsize=(1, 1))\n",
    "plt.title(labels[-1])\n",
    "plt.imshow(imgs[-1], cmap='gray')"
   ]
  },
  {
   "cell_type": "code",
   "execution_count": 5,
   "metadata": {},
   "outputs": [
    {
     "name": "stdout",
     "output_type": "stream",
     "text": [
      "17931\n"
     ]
    },
    {
     "data": {
      "text/plain": [
       "<matplotlib.image.AxesImage at 0x197260d8a88>"
      ]
     },
     "execution_count": 5,
     "metadata": {},
     "output_type": "execute_result"
    },
    {
     "data": {
      "image/png": "[encoded data removed]",
      "text/plain": [
       "<Figure size 72x72 with 1 Axes>"
      ]
     },
     "metadata": {
      "needs_background": "light"
     },
     "output_type": "display_data"
    }
   ],
   "source": [
    "img_list = sorted(glob.glob('SOCOFing/Altered/Altered-Easy/*.BMP'))\n",
    "print(len(img_list))\n",
    "\n",
    "imgs = np.empty((len(img_list), 96, 96), dtype=np.uint8)\n",
    "labels = np.empty((len(img_list), 4), dtype=np.uint16)\n",
    "\n",
    "for i, img_path in enumerate(img_list):\n",
    "    img = cv2.imread(img_path, cv2.IMREAD_GRAYSCALE)\n",
    "    img = cv2.resize(img, (96, 96))\n",
    "    imgs[i] = img\n",
    "    \n",
    "    # subject_id, gender, lr, finger\n",
    "    labels[i] = extract_label2(img_path)\n",
    "    \n",
    "np.savez('dataset/x_easy.npz', data=imgs)\n",
    "np.save('dataset/y_easy.npy', labels)\n",
    "\n",
    "plt.figure(figsize=(1, 1))\n",
    "plt.title(labels[-1])\n",
    "plt.imshow(imgs[-1], cmap='gray')"
   ]
  },
  {
   "cell_type": "code",
   "execution_count": 6,
   "metadata": {},
   "outputs": [
    {
     "name": "stdout",
     "output_type": "stream",
     "text": [
      "17067\n"
     ]
    },
    {
     "data": {
      "text/plain": [
       "<matplotlib.image.AxesImage at 0x1971c1ffd88>"
      ]
     },
     "execution_count": 6,
     "metadata": {},
     "output_type": "execute_result"
    },
    {
     "data": {
      "image/png": "[encoded data removed]",
      "text/plain": [
       "<Figure size 72x72 with 1 Axes>"
      ]
     },
     "metadata": {
      "needs_background": "light"
     },
     "output_type": "display_data"
    }
   ],
   "source": [
    "img_list = sorted(glob.glob('SOCOFing/Altered/Altered-Medium/*.BMP'))\n",
    "print(len(img_list))\n",
    "\n",
    "imgs = np.empty((len(img_list), 96, 96), dtype=np.uint8)\n",
    "labels = np.empty((len(img_list), 4), dtype=np.uint16)\n",
    "\n",
    "for i, img_path in enumerate(img_list):\n",
    "    img = cv2.imread(img_path, cv2.IMREAD_GRAYSCALE)\n",
    "    img = cv2.resize(img, (96, 96))\n",
    "    imgs[i] = img\n",
    "    \n",
    "    # subject_id, gender, lr, finger\n",
    "    labels[i] = extract_label2(img_path)\n",
    "    \n",
    "np.savez('dataset/x_medium.npz', data=imgs)\n",
    "np.save('dataset/y_medium.npy', labels)\n",
    "\n",
    "plt.figure(figsize=(1, 1))\n",
    "plt.title(labels[-1])\n",
    "plt.imshow(imgs[-1], cmap='gray')"
   ]
  },
  {
   "cell_type": "code",
   "execution_count": 7,
   "metadata": {},
   "outputs": [
    {
     "name": "stdout",
     "output_type": "stream",
     "text": [
      "14272\n"
     ]
    },
    {
     "data": {
      "text/plain": [
       "<matplotlib.image.AxesImage at 0x197264625c8>"
      ]
     },
     "execution_count": 7,
     "metadata": {},
     "output_type": "execute_result"
    },
    {
     "data": {
      "image/png": "[encoded data removed]",
      "text/plain": [
       "<Figure size 72x72 with 1 Axes>"
      ]
     },
     "metadata": {
      "needs_background": "light"
     },
     "output_type": "display_data"
    }
   ],
   "source": [
    "img_list = sorted(glob.glob('SOCOFing/Altered/Altered-Hard/*.BMP'))\n",
    "print(len(img_list))\n",
    "\n",
    "imgs = np.empty((len(img_list), 96, 96), dtype=np.uint8)\n",
    "labels = np.empty((len(img_list), 4), dtype=np.uint16)\n",
    "\n",
    "for i, img_path in enumerate(img_list):\n",
    "    img = cv2.imread(img_path, cv2.IMREAD_GRAYSCALE)\n",
    "    img = cv2.resize(img, (96, 96))\n",
    "    imgs[i] = img\n",
    "    \n",
    "    # subject_id, gender, lr, finger\n",
    "    labels[i] = extract_label2(img_path)\n",
    "    \n",
    "np.savez('dataset/x_hard.npz', data=imgs)\n",
    "np.save('dataset/y_hard.npy', labels)\n",
    "\n",
    "plt.figure(figsize=(1, 1))\n",
    "plt.title(labels[-1])\n",
    "plt.imshow(imgs[-1], cmap='gray')"
   ]
  },
  {
   "cell_type": "markdown",
   "metadata": {},
   "source": [
    "# 剪裁影像處理"
   ]
  },
  {
   "cell_type": "code",
   "execution_count": 5,
   "metadata": {},
   "outputs": [
    {
     "name": "stdout",
     "output_type": "stream",
     "text": [
      "6000\n"
     ]
    },
    {
     "name": "stderr",
     "output_type": "stream",
     "text": [
      "C:\\Users\\ArcherSeven\\anaconda3\\envs\\ai37\\lib\\site-packages\\matplotlib\\text.py:1223: FutureWarning: elementwise comparison failed; returning scalar instead, but in the future will perform elementwise comparison\n",
      "  if s != self._text:\n"
     ]
    },
    {
     "data": {
      "text/plain": [
       "<matplotlib.image.AxesImage at 0x1a638b79088>"
      ]
     },
     "execution_count": 5,
     "metadata": {},
     "output_type": "execute_result"
    },
    {
     "data": {
      "image/png": "[encoded data removed]",
      "text/plain": [
       "<Figure size 72x72 with 1 Axes>"
      ]
     },
     "metadata": {
      "needs_background": "light"
     },
     "output_type": "display_data"
    }
   ],
   "source": [
    "img_list = sorted(glob.glob('test_partial/*.BMP'))\n",
    "print(len(img_list))\n",
    "\n",
    "imgs = np.empty((len(img_list), 96, 96), dtype=np.uint8)\n",
    "labels = np.empty((len(img_list), 4), dtype=np.uint16)\n",
    "\n",
    "for i, img_path in enumerate(img_list):\n",
    "    img = cv2.imread(img_path, cv2.IMREAD_GRAYSCALE)\n",
    "    img = cv2.resize(img, (96, 96), interpolation=cv2.INTER_CUBIC)\n",
    "    imgs[i] = img\n",
    "    \n",
    "    # subject_id, gender, lr, finger\n",
    "    labels[i] = extract_label(img_path)\n",
    "    \n",
    "np.savez('dataset/x_partial.npz', data=imgs)\n",
    "np.save('dataset/y_partial.npy', labels)\n",
    "\n",
    "plt.figure(figsize=(1, 1))\n",
    "plt.title(labels[-1])\n",
    "plt.imshow(imgs[-1], cmap='gray')"
   ]
  },
  {
   "cell_type": "markdown",
   "metadata": {},
   "source": [
    "# Real (zoom range=0.5) 影像處理"
   ]
  },
  {
   "cell_type": "code",
   "execution_count": 8,
   "metadata": {},
   "outputs": [
    {
     "name": "stdout",
     "output_type": "stream",
     "text": [
      "17998\n"
     ]
    },
    {
     "name": "stderr",
     "output_type": "stream",
     "text": [
      "C:\\Users\\ArcherSeven\\anaconda3\\envs\\ai37\\lib\\site-packages\\matplotlib\\text.py:1223: FutureWarning: elementwise comparison failed; returning scalar instead, but in the future will perform elementwise comparison\n",
      "  if s != self._text:\n"
     ]
    },
    {
     "data": {
      "text/plain": [
       "<matplotlib.image.AxesImage at 0x1ac331f2908>"
      ]
     },
     "execution_count": 8,
     "metadata": {},
     "output_type": "execute_result"
    },
    {
     "data": {
      "image/png": "[encoded data removed]",
      "text/plain": [
       "<Figure size 72x72 with 1 Axes>"
      ]
     },
     "metadata": {
      "needs_background": "light"
     },
     "output_type": "display_data"
    }
   ],
   "source": [
    "img_list = sorted(glob.glob('B/*.png'))\n",
    "print(len(img_list))\n",
    "\n",
    "imgs = np.empty((len(img_list), 96, 96), dtype=np.uint8)\n",
    "labels = np.empty((len(img_list), 4), dtype=np.uint16)\n",
    "\n",
    "for i, img_path in enumerate(img_list):\n",
    "    img = cv2.imread(img_path, cv2.IMREAD_GRAYSCALE)\n",
    "    img = cv2.resize(img, (96, 96), interpolation=cv2.INTER_CUBIC)\n",
    "    imgs[i] = img\n",
    "    \n",
    "    # subject_id, gender, lr, finger\n",
    "    labels[i] = extract_label3(img_path)\n",
    "    \n",
    "np.savez('dataset/x_zoom.npz', data=imgs)\n",
    "np.save('dataset/y_zoom.npy', labels)\n",
    "\n",
    "plt.figure(figsize=(1, 1))\n",
    "plt.title(labels[-1])\n",
    "plt.imshow(imgs[-1], cmap='gray')"
   ]
  }
 ],
 "metadata": {
  "kernelspec": {
   "display_name": "Python 3 (ipykernel)",
   "language": "python",
   "name": "python3"
  },
  "language_info": {
   "codemirror_mode": {
    "name": "ipython",
    "version": 3
   },
   "file_extension": ".py",
   "mimetype": "text/x-python",
   "name": "python",
   "nbconvert_exporter": "python",
   "pygments_lexer": "ipython3",
   "version": "3.7.13"
  }
 },
 "nbformat": 4,
 "nbformat_minor": 2
}
