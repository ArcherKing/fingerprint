{
 "cells": [
  {
   "cell_type": "code",
   "execution_count": null,
   "id": "02250c8b",
   "metadata": {},
   "outputs": [],
   "source": [
    "#!pip install tensorflow==2.1.0\n",
    "#!pip install keras==2.3.1\n",
    "#!pip install h5py==2.10.0"
   ]
  },
  {
   "cell_type": "code",
   "execution_count": 1,
   "id": "31166b7e",
   "metadata": {},
   "outputs": [
    {
     "name": "stdout",
     "output_type": "stream",
     "text": [
      "版本: 2.1.0\n"
     ]
    },
    {
     "name": "stderr",
     "output_type": "stream",
     "text": [
      "Using TensorFlow backend.\n"
     ]
    },
    {
     "name": "stdout",
     "output_type": "stream",
     "text": [
      "版本: 2.3.1\n"
     ]
    }
   ],
   "source": [
    "import tensorflow as tf\n",
    "print('版本:',tf.__version__)\n",
    "import keras\n",
    "print('版本:',keras.__version__)"
   ]
  },
  {
   "cell_type": "code",
   "execution_count": 2,
   "id": "bd1d1197",
   "metadata": {},
   "outputs": [],
   "source": [
    "import cv2\n",
    "import numpy as np\n",
    "from tensorflow.keras.utils import to_categorical\n",
    "from tensorflow.keras.applications.resnet50 import ResNet50\n",
    "from tensorflow.keras.applications.resnet50 import preprocess_input"
   ]
  },
  {
   "cell_type": "code",
   "execution_count": 8,
   "id": "9ce12ee6",
   "metadata": {},
   "outputs": [],
   "source": [
    "x_real = np.load('dataset_c/x_real.npz')['data']\n",
    "y_real = np.load('dataset_c/y_real.npy')\n",
    "x_easy = np.load('dataset_c/x_easy.npz')['data']\n",
    "y_easy = np.load('dataset_c/y_easy.npy')\n",
    "x_medium = np.load('dataset_c/x_medium.npz')['data']\n",
    "y_medium = np.load('dataset_c/y_medium.npy')\n",
    "x_hard = np.load('dataset_c/x_hard.npz')['data']\n",
    "y_hard = np.load('dataset_c/y_hard.npy')"
   ]
  },
  {
   "cell_type": "code",
   "execution_count": 9,
   "id": "18b64168",
   "metadata": {},
   "outputs": [
    {
     "name": "stdout",
     "output_type": "stream",
     "text": [
      "(6000, 96, 96, 3) (6000, 4)\n",
      "(17931, 96, 96, 3) (17931, 4)\n",
      "(17067, 96, 96, 3) (17067, 4)\n",
      "(14272, 96, 96, 3) (14272, 4)\n"
     ]
    }
   ],
   "source": [
    "print(x_real.shape,y_real.shape)\n",
    "print(x_easy.shape,y_easy.shape)\n",
    "print(x_medium.shape,y_medium.shape)\n",
    "print(x_hard.shape,y_hard.shape)"
   ]
  },
  {
   "cell_type": "code",
   "execution_count": 10,
   "id": "4427ad55",
   "metadata": {},
   "outputs": [],
   "source": [
    "def restore_label(label):\n",
    "    finger_list = ['thumb', 'index', 'middle', 'ring', 'little']\n",
    "    label_list = list(label)\n",
    "    label_list[1] = 'F' if label_list[1] else 'M'\n",
    "    label_list[2] = 'Right' if label_list[2] else 'Left'\n",
    "    label_list[3] = finger_list[label_list[3]]\n",
    "    return label_list"
   ]
  },
  {
   "cell_type": "code",
   "execution_count": 11,
   "id": "fc224b2e",
   "metadata": {},
   "outputs": [],
   "source": [
    "# one-hot\n",
    "id_label = to_categorical(y_real[:,0]-1)\n",
    "gender_label = to_categorical(y_real[:,1])\n",
    "LRhand_label = to_categorical(y_real[:,2])\n",
    "finger_label = to_categorical(y_real[:,3])"
   ]
  },
  {
   "cell_type": "code",
   "execution_count": 12,
   "id": "12dfcfd8",
   "metadata": {},
   "outputs": [
    {
     "name": "stdout",
     "output_type": "stream",
     "text": [
      "<class 'numpy.ndarray'>\n",
      "(6000, 600)\n",
      "(6000, 2)\n",
      "(6000, 2)\n",
      "(6000, 5)\n"
     ]
    }
   ],
   "source": [
    "print(type(id_label))\n",
    "print(id_label.shape)\n",
    "print(gender_label.shape)\n",
    "print(LRhand_label.shape)\n",
    "print(finger_label.shape)"
   ]
  },
  {
   "cell_type": "code",
   "execution_count": 13,
   "id": "23b6d0f2",
   "metadata": {},
   "outputs": [],
   "source": [
    "# load model\n",
    "rs_model = ResNet50(include_top=False, weights=\"imagenet\",input_shape=(120,120,3))"
   ]
  },
  {
   "cell_type": "code",
   "execution_count": 14,
   "id": "10b741ce",
   "metadata": {},
   "outputs": [],
   "source": [
    "id_model =  tf.keras.models.load_model('./data/resnet50_fpAll_id.h5')\n",
    "gender_model =  tf.keras.models.load_model('./data/resnet50_fpAll_gneder.h5')\n",
    "LRhand_model =  tf.keras.models.load_model('./data/resnet50_fpAll_LR.h5')\n",
    "finger_model =  tf.keras.models.load_model('./data/resnet50_fpAll_finger.h5')\n"
   ]
  },
  {
   "cell_type": "code",
   "execution_count": 15,
   "id": "b9d4a989",
   "metadata": {},
   "outputs": [],
   "source": [
    "img_path = \"./uploads/1__M_Left_middle_finger_CR.BMP\"\n",
    "img = cv2.imread(img_path)\n",
    "img = cv2.resize(img, (120, 120))\n",
    "np_img = np.array(img).reshape((1, 120, 120, 3))\n",
    "np_img = np_img.astype(np.float32) / 255.\n"
   ]
  },
  {
   "cell_type": "code",
   "execution_count": 16,
   "id": "571a29cb",
   "metadata": {},
   "outputs": [],
   "source": [
    "input = preprocess_input(np_img)\n",
    "features = rs_model.predict(input, verbose=0)"
   ]
  },
  {
   "cell_type": "code",
   "execution_count": 17,
   "id": "b833480d",
   "metadata": {},
   "outputs": [
    {
     "name": "stdout",
     "output_type": "stream",
     "text": [
      "輸入指紋: ./uploads/1__M_Left_middle_finger_CR.BMP\n",
      "符合對象: [175, 'M', 'Right', 'middle']\n",
      "符合機率: [0.2151452, 0.9215806, 0.7288998, 0.33929136]\n"
     ]
    }
   ],
   "source": [
    "# 指紋比對\n",
    "id_pred = id_model.predict(features)\n",
    "id_prob_list = np.argsort(id_pred[0], axis=0)\n",
    "\n",
    "gender_pred = gender_model.predict(features)\n",
    "gender_prob_list = np.argsort(gender_pred[0], axis=0)\n",
    "\n",
    "LRhand_pred = LRhand_model.predict(features)\n",
    "LR_prob_list = np.argsort(LRhand_pred[0], axis=0)\n",
    "\n",
    "finger_pred = finger_model.predict(features)\n",
    "finger_prob_list = np.argsort(finger_pred[0], axis=0)\n",
    "\n",
    "print('輸入指紋:', img_path)\n",
    "print('符合對象:', restore_label([id_prob_list[-1]+1, gender_prob_list[-1], LR_prob_list[-1], finger_prob_list[-1]]))\n",
    "print('符合機率:', [id_pred[0][id_prob_list[-1]], gender_pred[0][gender_prob_list[-1]], LRhand_pred[0][LR_prob_list[-1]], finger_pred[0][finger_prob_list[-1]]])\n"
   ]
  }
 ],
 "metadata": {
  "kernelspec": {
   "display_name": "Python 3 (ipykernel)",
   "language": "python",
   "name": "python3"
  },
  "language_info": {
   "codemirror_mode": {
    "name": "ipython",
    "version": 3
   },
   "file_extension": ".py",
   "mimetype": "text/x-python",
   "name": "python",
   "nbconvert_exporter": "python",
   "pygments_lexer": "ipython3",
   "version": "3.7.13"
  }
 },
 "nbformat": 4,
 "nbformat_minor": 5
}
