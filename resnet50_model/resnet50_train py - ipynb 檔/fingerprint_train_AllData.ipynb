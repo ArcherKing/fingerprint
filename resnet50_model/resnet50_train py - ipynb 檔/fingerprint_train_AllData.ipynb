{
  "nbformat": 4,
  "nbformat_minor": 0,
  "metadata": {
    "colab": {
      "name": "Untitled0.ipynb",
      "provenance": [],
      "collapsed_sections": []
    },
    "kernelspec": {
      "name": "python3",
      "display_name": "Python 3"
    },
    "language_info": {
      "name": "python"
    },
    "accelerator": "GPU",
    "gpuClass": "standard"
  },
  "cells": [
    {
      "cell_type": "code",
      "source": [
        "!pip install tensorflow==2.1.0"
      ],
      "metadata": {
        "colab": {
          "base_uri": "https://localhost:8080/",
          "height": 1000
        },
        "id": "wJ3iN-XCKEO-",
        "outputId": "1ff5127d-ffa4-4d3e-8224-b1adda66eea9"
      },
      "execution_count": null,
      "outputs": [
        {
          "output_type": "stream",
          "name": "stdout",
          "text": [
            "Looking in indexes: https://pypi.org/simple, https://us-python.pkg.dev/colab-wheels/public/simple/\n",
            "Collecting tensorflow==2.1.0\n",
            "  Downloading tensorflow-2.1.0-cp37-cp37m-manylinux2010_x86_64.whl (421.8 MB)\n",
            "\u001b[K     |████████████████████████████████| 421.8 MB 26 kB/s \n",
            "\u001b[?25hRequirement already satisfied: absl-py>=0.7.0 in /usr/local/lib/python3.7/dist-packages (from tensorflow==2.1.0) (1.2.0)\n",
            "Requirement already satisfied: grpcio>=1.8.6 in /usr/local/lib/python3.7/dist-packages (from tensorflow==2.1.0) (1.47.0)\n",
            "Requirement already satisfied: google-pasta>=0.1.6 in /usr/local/lib/python3.7/dist-packages (from tensorflow==2.1.0) (0.2.0)\n",
            "Requirement already satisfied: termcolor>=1.1.0 in /usr/local/lib/python3.7/dist-packages (from tensorflow==2.1.0) (1.1.0)\n",
            "Collecting keras-applications>=1.0.8\n",
            "  Downloading Keras_Applications-1.0.8-py3-none-any.whl (50 kB)\n",
            "\u001b[K     |████████████████████████████████| 50 kB 7.7 MB/s \n",
            "\u001b[?25hRequirement already satisfied: wheel>=0.26 in /usr/local/lib/python3.7/dist-packages (from tensorflow==2.1.0) (0.37.1)\n",
            "Requirement already satisfied: opt-einsum>=2.3.2 in /usr/local/lib/python3.7/dist-packages (from tensorflow==2.1.0) (3.3.0)\n",
            "Requirement already satisfied: astor>=0.6.0 in /usr/local/lib/python3.7/dist-packages (from tensorflow==2.1.0) (0.8.1)\n",
            "Requirement already satisfied: protobuf>=3.8.0 in /usr/local/lib/python3.7/dist-packages (from tensorflow==2.1.0) (3.17.3)\n",
            "Collecting tensorboard<2.2.0,>=2.1.0\n",
            "  Downloading tensorboard-2.1.1-py3-none-any.whl (3.8 MB)\n",
            "\u001b[K     |████████████████████████████████| 3.8 MB 63.4 MB/s \n",
            "\u001b[?25hRequirement already satisfied: wrapt>=1.11.1 in /usr/local/lib/python3.7/dist-packages (from tensorflow==2.1.0) (1.14.1)\n",
            "Collecting scipy==1.4.1\n",
            "  Downloading scipy-1.4.1-cp37-cp37m-manylinux1_x86_64.whl (26.1 MB)\n",
            "\u001b[K     |████████████████████████████████| 26.1 MB 1.4 MB/s \n",
            "\u001b[?25hCollecting tensorflow-estimator<2.2.0,>=2.1.0rc0\n",
            "  Downloading tensorflow_estimator-2.1.0-py2.py3-none-any.whl (448 kB)\n",
            "\u001b[K     |████████████████████████████████| 448 kB 67.2 MB/s \n",
            "\u001b[?25hRequirement already satisfied: keras-preprocessing>=1.1.0 in /usr/local/lib/python3.7/dist-packages (from tensorflow==2.1.0) (1.1.2)\n",
            "Requirement already satisfied: numpy<2.0,>=1.16.0 in /usr/local/lib/python3.7/dist-packages (from tensorflow==2.1.0) (1.21.6)\n",
            "Collecting gast==0.2.2\n",
            "  Downloading gast-0.2.2.tar.gz (10 kB)\n",
            "Requirement already satisfied: six>=1.12.0 in /usr/local/lib/python3.7/dist-packages (from tensorflow==2.1.0) (1.15.0)\n",
            "Requirement already satisfied: h5py in /usr/local/lib/python3.7/dist-packages (from keras-applications>=1.0.8->tensorflow==2.1.0) (3.1.0)\n",
            "Requirement already satisfied: setuptools>=41.0.0 in /usr/local/lib/python3.7/dist-packages (from tensorboard<2.2.0,>=2.1.0->tensorflow==2.1.0) (57.4.0)\n",
            "Requirement already satisfied: requests<3,>=2.21.0 in /usr/local/lib/python3.7/dist-packages (from tensorboard<2.2.0,>=2.1.0->tensorflow==2.1.0) (2.23.0)\n",
            "Requirement already satisfied: google-auth-oauthlib<0.5,>=0.4.1 in /usr/local/lib/python3.7/dist-packages (from tensorboard<2.2.0,>=2.1.0->tensorflow==2.1.0) (0.4.6)\n",
            "Requirement already satisfied: werkzeug>=0.11.15 in /usr/local/lib/python3.7/dist-packages (from tensorboard<2.2.0,>=2.1.0->tensorflow==2.1.0) (1.0.1)\n",
            "Requirement already satisfied: markdown>=2.6.8 in /usr/local/lib/python3.7/dist-packages (from tensorboard<2.2.0,>=2.1.0->tensorflow==2.1.0) (3.4.1)\n",
            "Requirement already satisfied: google-auth<2,>=1.6.3 in /usr/local/lib/python3.7/dist-packages (from tensorboard<2.2.0,>=2.1.0->tensorflow==2.1.0) (1.35.0)\n",
            "Requirement already satisfied: pyasn1-modules>=0.2.1 in /usr/local/lib/python3.7/dist-packages (from google-auth<2,>=1.6.3->tensorboard<2.2.0,>=2.1.0->tensorflow==2.1.0) (0.2.8)\n",
            "Requirement already satisfied: rsa<5,>=3.1.4 in /usr/local/lib/python3.7/dist-packages (from google-auth<2,>=1.6.3->tensorboard<2.2.0,>=2.1.0->tensorflow==2.1.0) (4.9)\n",
            "Requirement already satisfied: cachetools<5.0,>=2.0.0 in /usr/local/lib/python3.7/dist-packages (from google-auth<2,>=1.6.3->tensorboard<2.2.0,>=2.1.0->tensorflow==2.1.0) (4.2.4)\n",
            "Requirement already satisfied: requests-oauthlib>=0.7.0 in /usr/local/lib/python3.7/dist-packages (from google-auth-oauthlib<0.5,>=0.4.1->tensorboard<2.2.0,>=2.1.0->tensorflow==2.1.0) (1.3.1)\n",
            "Requirement already satisfied: importlib-metadata>=4.4 in /usr/local/lib/python3.7/dist-packages (from markdown>=2.6.8->tensorboard<2.2.0,>=2.1.0->tensorflow==2.1.0) (4.12.0)\n",
            "Requirement already satisfied: typing-extensions>=3.6.4 in /usr/local/lib/python3.7/dist-packages (from importlib-metadata>=4.4->markdown>=2.6.8->tensorboard<2.2.0,>=2.1.0->tensorflow==2.1.0) (4.1.1)\n",
            "Requirement already satisfied: zipp>=0.5 in /usr/local/lib/python3.7/dist-packages (from importlib-metadata>=4.4->markdown>=2.6.8->tensorboard<2.2.0,>=2.1.0->tensorflow==2.1.0) (3.8.1)\n",
            "Requirement already satisfied: pyasn1<0.5.0,>=0.4.6 in /usr/local/lib/python3.7/dist-packages (from pyasn1-modules>=0.2.1->google-auth<2,>=1.6.3->tensorboard<2.2.0,>=2.1.0->tensorflow==2.1.0) (0.4.8)\n",
            "Requirement already satisfied: certifi>=2017.4.17 in /usr/local/lib/python3.7/dist-packages (from requests<3,>=2.21.0->tensorboard<2.2.0,>=2.1.0->tensorflow==2.1.0) (2022.6.15)\n",
            "Requirement already satisfied: urllib3!=1.25.0,!=1.25.1,<1.26,>=1.21.1 in /usr/local/lib/python3.7/dist-packages (from requests<3,>=2.21.0->tensorboard<2.2.0,>=2.1.0->tensorflow==2.1.0) (1.24.3)\n",
            "Requirement already satisfied: idna<3,>=2.5 in /usr/local/lib/python3.7/dist-packages (from requests<3,>=2.21.0->tensorboard<2.2.0,>=2.1.0->tensorflow==2.1.0) (2.10)\n",
            "Requirement already satisfied: chardet<4,>=3.0.2 in /usr/local/lib/python3.7/dist-packages (from requests<3,>=2.21.0->tensorboard<2.2.0,>=2.1.0->tensorflow==2.1.0) (3.0.4)\n",
            "Requirement already satisfied: oauthlib>=3.0.0 in /usr/local/lib/python3.7/dist-packages (from requests-oauthlib>=0.7.0->google-auth-oauthlib<0.5,>=0.4.1->tensorboard<2.2.0,>=2.1.0->tensorflow==2.1.0) (3.2.0)\n",
            "Requirement already satisfied: cached-property in /usr/local/lib/python3.7/dist-packages (from h5py->keras-applications>=1.0.8->tensorflow==2.1.0) (1.5.2)\n",
            "Building wheels for collected packages: gast\n",
            "  Building wheel for gast (setup.py) ... \u001b[?25l\u001b[?25hdone\n",
            "  Created wheel for gast: filename=gast-0.2.2-py3-none-any.whl size=7554 sha256=aa6ac198b1c9062177e859f8f00c4b56682a3662973d9298cacdb7b61dbf6f6c\n",
            "  Stored in directory: /root/.cache/pip/wheels/21/7f/02/420f32a803f7d0967b48dd823da3f558c5166991bfd204eef3\n",
            "Successfully built gast\n",
            "Installing collected packages: tensorflow-estimator, tensorboard, scipy, keras-applications, gast, tensorflow\n",
            "  Attempting uninstall: tensorflow-estimator\n",
            "    Found existing installation: tensorflow-estimator 2.8.0\n",
            "    Uninstalling tensorflow-estimator-2.8.0:\n",
            "      Successfully uninstalled tensorflow-estimator-2.8.0\n",
            "  Attempting uninstall: tensorboard\n",
            "    Found existing installation: tensorboard 2.8.0\n",
            "    Uninstalling tensorboard-2.8.0:\n",
            "      Successfully uninstalled tensorboard-2.8.0\n",
            "  Attempting uninstall: scipy\n",
            "    Found existing installation: scipy 1.7.3\n",
            "    Uninstalling scipy-1.7.3:\n",
            "      Successfully uninstalled scipy-1.7.3\n",
            "  Attempting uninstall: gast\n",
            "    Found existing installation: gast 0.5.3\n",
            "    Uninstalling gast-0.5.3:\n",
            "      Successfully uninstalled gast-0.5.3\n",
            "  Attempting uninstall: tensorflow\n",
            "    Found existing installation: tensorflow 2.8.2+zzzcolab20220719082949\n",
            "    Uninstalling tensorflow-2.8.2+zzzcolab20220719082949:\n",
            "      Successfully uninstalled tensorflow-2.8.2+zzzcolab20220719082949\n",
            "\u001b[31mERROR: pip's dependency resolver does not currently take into account all the packages that are installed. This behaviour is the source of the following dependency conflicts.\n",
            "tensorflow-probability 0.16.0 requires gast>=0.3.2, but you have gast 0.2.2 which is incompatible.\n",
            "pymc3 3.11.5 requires scipy<1.8.0,>=1.7.3, but you have scipy 1.4.1 which is incompatible.\n",
            "jaxlib 0.3.14+cuda11.cudnn805 requires scipy>=1.5, but you have scipy 1.4.1 which is incompatible.\n",
            "jax 0.3.14 requires scipy>=1.5, but you have scipy 1.4.1 which is incompatible.\n",
            "albumentations 0.1.12 requires imgaug<0.2.7,>=0.2.5, but you have imgaug 0.2.9 which is incompatible.\u001b[0m\n",
            "Successfully installed gast-0.2.2 keras-applications-1.0.8 scipy-1.4.1 tensorboard-2.1.1 tensorflow-2.1.0 tensorflow-estimator-2.1.0\n"
          ]
        },
        {
          "output_type": "display_data",
          "data": {
            "application/vnd.colab-display-data+json": {
              "pip_warning": {
                "packages": [
                  "gast",
                  "scipy",
                  "tensorboard",
                  "tensorflow"
                ]
              }
            }
          },
          "metadata": {}
        }
      ]
    },
    {
      "cell_type": "code",
      "source": [
        "!pip install keras==2.3.1"
      ],
      "metadata": {
        "colab": {
          "base_uri": "https://localhost:8080/"
        },
        "id": "WvgMTHpaMK37",
        "outputId": "e2387898-3f94-426b-a543-8191a68c19e6"
      },
      "execution_count": null,
      "outputs": [
        {
          "output_type": "stream",
          "name": "stdout",
          "text": [
            "Looking in indexes: https://pypi.org/simple, https://us-python.pkg.dev/colab-wheels/public/simple/\n",
            "Collecting keras==2.3.1\n",
            "  Downloading Keras-2.3.1-py2.py3-none-any.whl (377 kB)\n",
            "\u001b[K     |████████████████████████████████| 377 kB 18.1 MB/s \n",
            "\u001b[?25hRequirement already satisfied: pyyaml in /usr/local/lib/python3.7/dist-packages (from keras==2.3.1) (3.13)\n",
            "Requirement already satisfied: keras-preprocessing>=1.0.5 in /usr/local/lib/python3.7/dist-packages (from keras==2.3.1) (1.1.2)\n",
            "Requirement already satisfied: keras-applications>=1.0.6 in /usr/local/lib/python3.7/dist-packages (from keras==2.3.1) (1.0.8)\n",
            "Requirement already satisfied: h5py in /usr/local/lib/python3.7/dist-packages (from keras==2.3.1) (3.1.0)\n",
            "Requirement already satisfied: six>=1.9.0 in /usr/local/lib/python3.7/dist-packages (from keras==2.3.1) (1.15.0)\n",
            "Requirement already satisfied: numpy>=1.9.1 in /usr/local/lib/python3.7/dist-packages (from keras==2.3.1) (1.21.6)\n",
            "Requirement already satisfied: scipy>=0.14 in /usr/local/lib/python3.7/dist-packages (from keras==2.3.1) (1.4.1)\n",
            "Requirement already satisfied: cached-property in /usr/local/lib/python3.7/dist-packages (from h5py->keras==2.3.1) (1.5.2)\n",
            "Installing collected packages: keras\n",
            "  Attempting uninstall: keras\n",
            "    Found existing installation: keras 2.8.0\n",
            "    Uninstalling keras-2.8.0:\n",
            "      Successfully uninstalled keras-2.8.0\n",
            "Successfully installed keras-2.3.1\n"
          ]
        }
      ]
    },
    {
      "cell_type": "code",
      "source": [
        "!pip install h5py==2.10.0"
      ],
      "metadata": {
        "colab": {
          "base_uri": "https://localhost:8080/"
        },
        "id": "vwKJykIuOIRc",
        "outputId": "3ef93603-aae8-43bd-8a6d-00a4423a538e"
      },
      "execution_count": null,
      "outputs": [
        {
          "output_type": "stream",
          "name": "stdout",
          "text": [
            "Looking in indexes: https://pypi.org/simple, https://us-python.pkg.dev/colab-wheels/public/simple/\n",
            "Collecting h5py==2.10.0\n",
            "  Downloading h5py-2.10.0-cp37-cp37m-manylinux1_x86_64.whl (2.9 MB)\n",
            "\u001b[K     |████████████████████████████████| 2.9 MB 32.3 MB/s \n",
            "\u001b[?25hRequirement already satisfied: six in /usr/local/lib/python3.7/dist-packages (from h5py==2.10.0) (1.15.0)\n",
            "Requirement already satisfied: numpy>=1.7 in /usr/local/lib/python3.7/dist-packages (from h5py==2.10.0) (1.21.6)\n",
            "Installing collected packages: h5py\n",
            "  Attempting uninstall: h5py\n",
            "    Found existing installation: h5py 3.1.0\n",
            "    Uninstalling h5py-3.1.0:\n",
            "      Successfully uninstalled h5py-3.1.0\n",
            "Successfully installed h5py-2.10.0\n"
          ]
        }
      ]
    },
    {
      "cell_type": "code",
      "source": [
        "import tensorflow as tf\n",
        "print('版本:',tf.__version__)\n",
        "import keras\n",
        "print('版本:',keras.__version__)"
      ],
      "metadata": {
        "colab": {
          "base_uri": "https://localhost:8080/"
        },
        "id": "vSlTT61_GvfN",
        "outputId": "37210a6d-c9fb-45f8-d507-ca1016aa783d"
      },
      "execution_count": 1,
      "outputs": [
        {
          "output_type": "stream",
          "name": "stdout",
          "text": [
            "版本: 2.1.0\n",
            "版本: 2.3.1\n"
          ]
        },
        {
          "output_type": "stream",
          "name": "stderr",
          "text": [
            "Using TensorFlow backend.\n"
          ]
        }
      ]
    },
    {
      "cell_type": "code",
      "source": [
        "import h5py\n",
        "print('版本:',h5py.__version__)"
      ],
      "metadata": {
        "colab": {
          "base_uri": "https://localhost:8080/"
        },
        "id": "gnYaWaAoODBC",
        "outputId": "19aeec9f-1c3a-4ddb-84ac-27ecc9fc2a1d"
      },
      "execution_count": 2,
      "outputs": [
        {
          "output_type": "stream",
          "name": "stdout",
          "text": [
            "版本: 2.10.0\n"
          ]
        }
      ]
    },
    {
      "cell_type": "code",
      "execution_count": 3,
      "metadata": {
        "id": "51dAEaIc4og4"
      },
      "outputs": [],
      "source": [
        "import numpy as np\n",
        "import cv2,glob\n",
        "import matplotlib.pyplot as plt\n",
        "%matplotlib inline"
      ]
    },
    {
      "cell_type": "code",
      "source": [
        "x_real = np.load('/content/x_real_fp.npz')['data']\n",
        "y_real = np.load('/content/y_real_fp.npy')\n",
        "x_easy = np.load('/content/x_easy_fp.npz')['data']\n",
        "y_easy = np.load('/content/y_easy_fp.npy')\n",
        "x_medium = np.load('/content/x_medium_fp.npz')['data']\n",
        "y_medium = np.load('/content/y_medium_fp.npy')\n",
        "x_hard = np.load('/content/x_hard_fp.npz')['data']\n",
        "y_hard = np.load('/content/y_hard_fp.npy')"
      ],
      "metadata": {
        "id": "WFlBj2P6ry9v"
      },
      "execution_count": 4,
      "outputs": []
    },
    {
      "cell_type": "code",
      "source": [
        "print(x_real.shape,y_real.shape)\n",
        "print(x_easy.shape,y_easy.shape)\n",
        "print(x_medium.shape,y_medium.shape)\n",
        "print(x_hard.shape,y_hard.shape)"
      ],
      "metadata": {
        "colab": {
          "base_uri": "https://localhost:8080/"
        },
        "id": "PNtZ-WS37FAB",
        "outputId": "db81ea24-4b90-4534-ef64-8cbef183c9e4"
      },
      "execution_count": 27,
      "outputs": [
        {
          "output_type": "stream",
          "name": "stdout",
          "text": [
            "(6000, 96, 96, 3) (6000, 4)\n",
            "(17931, 96, 96, 3) (17931, 4)\n",
            "(17067, 96, 96, 3) (17067, 4)\n",
            "(14272, 96, 96, 3) (14272, 4)\n"
          ]
        }
      ]
    },
    {
      "cell_type": "code",
      "source": [
        "from sklearn.model_selection import train_test_split"
      ],
      "metadata": {
        "id": "sA6u7HEQMjdg"
      },
      "execution_count": 5,
      "outputs": []
    },
    {
      "cell_type": "code",
      "source": [
        "x_all_data = np.concatenate([x_easy, x_medium, x_hard], axis=0)\n",
        "label_all_data = np.concatenate([y_easy, y_medium, y_hard], axis=0)\n",
        "print(x_all_data.shape, label_all_data.shape)\n",
        "permutation = list(np.random.permutation(x_all_data.shape[0])) # permutation 隨機排\n",
        "x_data = x_all_data[permutation][:6000]\n",
        "label_data = label_all_data[permutation][:6000]\n",
        "x_train, x_val, label_train, label_val = train_test_split(x_data, label_data, test_size=0.2)\n",
        "print(x_data.shape, label_data.shape) \n",
        "print(x_train.shape, label_train.shape) # 訓練\n",
        "print(x_val.shape, label_val.shape) # 驗證"
      ],
      "metadata": {
        "colab": {
          "base_uri": "https://localhost:8080/"
        },
        "id": "VjdswgczMn8x",
        "outputId": "6be29021-ff97-4639-dd13-989feae8f320"
      },
      "execution_count": 6,
      "outputs": [
        {
          "output_type": "stream",
          "name": "stdout",
          "text": [
            "(49270, 96, 96, 3) (49270, 4)\n",
            "(6000, 96, 96, 3) (6000, 4)\n",
            "(4800, 96, 96, 3) (4800, 4)\n",
            "(1200, 96, 96, 3) (1200, 4)\n"
          ]
        }
      ]
    },
    {
      "cell_type": "code",
      "source": [
        "permutation = list(np.random.permutation(x_real.shape[0])) # permutation 隨機排列\n",
        "x_test = x_real[permutation][:1200]\n",
        "label_test = y_real[permutation][:1200]\n",
        "print(x_test.shape, label_test.shape) # 測試"
      ],
      "metadata": {
        "colab": {
          "base_uri": "https://localhost:8080/"
        },
        "id": "R8lJC9b1kGRo",
        "outputId": "53fa9975-b8c6-41fb-cc4c-67d214f03d0b"
      },
      "execution_count": 7,
      "outputs": [
        {
          "output_type": "stream",
          "name": "stdout",
          "text": [
            "(1200, 96, 96, 3) (1200, 4)\n"
          ]
        }
      ]
    },
    {
      "cell_type": "code",
      "source": [
        "from tensorflow.keras.applications.resnet50 import ResNet50\n",
        "from tensorflow.keras.applications.resnet50 import preprocess_input\n",
        "from tensorflow.keras.models import Sequential\n",
        "from tensorflow.keras.layers import Dense, Dropout, GlobalAveragePooling2D\n",
        "from tensorflow.keras.utils import to_categorical\n",
        "from PIL import Image"
      ],
      "metadata": {
        "id": "0VjVUUR2N2Ql"
      },
      "execution_count": 8,
      "outputs": []
    },
    {
      "cell_type": "code",
      "source": [
        "rs_model = ResNet50(include_top=False, weights=\"imagenet\",input_shape=(120,120,3))"
      ],
      "metadata": {
        "id": "LnnQ78u0N-GL"
      },
      "execution_count": 11,
      "outputs": []
    },
    {
      "cell_type": "code",
      "source": [
        "#train data\n",
        "\n",
        "print('調整X_train的圖片尺寸...')\n",
        "x_train_new = np.array([np.asarray(Image.fromarray(x_train[i]).resize((120, 120))) \n",
        "                        for i in range(0, len(x_train))])\n",
        "x_train_new = x_train_new.astype('float32')\n",
        "\n",
        "print(x_train_new.shape)\n"
      ],
      "metadata": {
        "colab": {
          "base_uri": "https://localhost:8080/"
        },
        "id": "2VIEovD2Or7L",
        "outputId": "b058a822-f0b5-45a4-f04c-504aed958619"
      },
      "execution_count": 12,
      "outputs": [
        {
          "output_type": "stream",
          "name": "stdout",
          "text": [
            "調整X_train的圖片尺寸...\n",
            "(4800, 120, 120, 3)\n"
          ]
        }
      ]
    },
    {
      "cell_type": "code",
      "source": [
        "#訓練資料前處理\n",
        "train_input=preprocess_input(x_train_new)\n",
        "print('使用 RasNet50 模型預測訓練資料的特徵資料...')\n",
        "train_features = rs_model.predict(train_input,verbose=1)"
      ],
      "metadata": {
        "colab": {
          "base_uri": "https://localhost:8080/"
        },
        "id": "bqRKeypQPAfa",
        "outputId": "e68f866c-bed0-482a-a518-56f604d4fc87"
      },
      "execution_count": 13,
      "outputs": [
        {
          "output_type": "stream",
          "name": "stdout",
          "text": [
            "使用 RasNet50 模型預測訓練資料的特徵資料...\n",
            "4800/4800 [==============================] - 11s 2ms/sample\n"
          ]
        }
      ]
    },
    {
      "cell_type": "code",
      "source": [
        "print(train_features.shape)"
      ],
      "metadata": {
        "colab": {
          "base_uri": "https://localhost:8080/"
        },
        "id": "EF-nxkWkWCKs",
        "outputId": "9fb501da-0ac9-47a9-dab9-8fc2da3d98e1"
      },
      "execution_count": 14,
      "outputs": [
        {
          "output_type": "stream",
          "name": "stdout",
          "text": [
            "(4800, 4, 4, 2048)\n"
          ]
        }
      ]
    },
    {
      "cell_type": "code",
      "source": [
        "#val_data\n",
        "\n",
        "print('調整X_val的圖片尺寸...')\n",
        "x_val_new = np.array([np.asarray(Image.fromarray(x_val[i]).resize((120, 120))) \n",
        "for i in range(0, len(x_val))])\n",
        "x_val_new = x_val_new.astype('float32')\n",
        "print(x_val_new.shape)\n"
      ],
      "metadata": {
        "id": "uIvSeSdtjnNO",
        "colab": {
          "base_uri": "https://localhost:8080/"
        },
        "outputId": "d7d239fd-d804-46b0-8f33-53bb02d73851"
      },
      "execution_count": 16,
      "outputs": [
        {
          "output_type": "stream",
          "name": "stdout",
          "text": [
            "調整X_val的圖片尺寸...\n",
            "(1200, 120, 120, 3)\n"
          ]
        }
      ]
    },
    {
      "cell_type": "code",
      "source": [
        "#驗證資料前處理\n",
        "\n",
        "val_input=preprocess_input(x_val_new)\n",
        "print('使用 RasNet50 模型預測驗證資料的特徵資料...')\n",
        "val_features = rs_model.predict(val_input,verbose=1)"
      ],
      "metadata": {
        "colab": {
          "base_uri": "https://localhost:8080/"
        },
        "id": "jyjxVpomWza_",
        "outputId": "126a5449-032f-426b-f59a-b9c0c6ee4622"
      },
      "execution_count": 17,
      "outputs": [
        {
          "output_type": "stream",
          "name": "stdout",
          "text": [
            "使用 RasNet50 模型預測驗證資料的特徵資料...\n",
            "1200/1200 [==============================] - 2s 2ms/sample\n"
          ]
        }
      ]
    },
    {
      "cell_type": "code",
      "source": [
        "print(val_features.shape)"
      ],
      "metadata": {
        "colab": {
          "base_uri": "https://localhost:8080/"
        },
        "id": "iKq8ARltXRNO",
        "outputId": "7e75656c-7501-405a-db0d-bf69128d7e15"
      },
      "execution_count": 18,
      "outputs": [
        {
          "output_type": "stream",
          "name": "stdout",
          "text": [
            "(1200, 4, 4, 2048)\n"
          ]
        }
      ]
    },
    {
      "cell_type": "code",
      "source": [
        "#test data\n",
        "\n",
        "print('調整x_test的圖片尺寸...')\n",
        "x_test_new = np.array([np.asarray(Image.fromarray(x_test[i]).resize((120, 120))) \n",
        "for i in range(0, len(x_test))])\n",
        "x_test_new = x_test_new.astype('float32')\n",
        "print(x_test_new.shape)\n"
      ],
      "metadata": {
        "colab": {
          "base_uri": "https://localhost:8080/"
        },
        "id": "EhtZkDSHXZlt",
        "outputId": "d7525b1c-76b4-4a5b-c5e3-b6f68b7195d2"
      },
      "execution_count": 19,
      "outputs": [
        {
          "output_type": "stream",
          "name": "stdout",
          "text": [
            "調整x_test的圖片尺寸...\n",
            "(1200, 120, 120, 3)\n"
          ]
        }
      ]
    },
    {
      "cell_type": "code",
      "source": [
        "#測測試資料前處理\n",
        "\n",
        "test_input=preprocess_input(x_test_new)\n",
        "print('使用 RasNet50 模型預測測試資料的特徵資料...')\n",
        "test_features = rs_model.predict(test_input,verbose=1)"
      ],
      "metadata": {
        "colab": {
          "base_uri": "https://localhost:8080/"
        },
        "id": "7UjCxYiMX-om",
        "outputId": "54275ee7-8925-4c85-8a70-410f7cd16af1"
      },
      "execution_count": 20,
      "outputs": [
        {
          "output_type": "stream",
          "name": "stdout",
          "text": [
            "使用 RasNet50 模型預測測試資料的特徵資料...\n",
            "1200/1200 [==============================] - 2s 1ms/sample\n"
          ]
        }
      ]
    },
    {
      "cell_type": "code",
      "source": [
        "print(test_features.shape)"
      ],
      "metadata": {
        "colab": {
          "base_uri": "https://localhost:8080/"
        },
        "id": "RWN6t6e6YUNR",
        "outputId": "e893d216-224d-452f-eed4-d2e448b27a4e"
      },
      "execution_count": 21,
      "outputs": [
        {
          "output_type": "stream",
          "name": "stdout",
          "text": [
            "(1200, 4, 4, 2048)\n"
          ]
        }
      ]
    },
    {
      "cell_type": "code",
      "source": [
        "#標籤正規化\n",
        "\n",
        "print('訓練資料:')\n",
        "id_label_train = to_categorical(label_train[:,0]-1)\n",
        "print('身分',id_label_train.shape)\n",
        "gender_label_train = to_categorical(label_train[:,1])\n",
        "print('性別',gender_label_train.shape)\n",
        "LRhand_label_train = to_categorical(label_train[:,2])\n",
        "print('左右手',LRhand_label_train.shape)\n",
        "finger_label_train = to_categorical(label_train[:,3])\n",
        "print('指頭',finger_label_train.shape)\n",
        "\n",
        "print('驗證 :')\n",
        "id_label_val = to_categorical(label_val[:,0]-1)\n",
        "print('身分',id_label_val.shape)\n",
        "gender_label_val = to_categorical(label_val[:,1])\n",
        "print('性別',gender_label_val.shape)\n",
        "LRhand_label_val = to_categorical(label_val[:,2])\n",
        "print('左右手',LRhand_label_val.shape)\n",
        "finger_label_val = to_categorical(label_val[:,3])\n",
        "print('指頭',finger_label_val.shape)\n",
        "\n",
        "print('測試資料:')\n",
        "id_label_test = to_categorical(label_test[:,0]-1)\n",
        "print('身分',id_label_test.shape)\n",
        "gender_label_test = to_categorical(label_test[:,1])\n",
        "print('性別',gender_label_test.shape)\n",
        "LRhand_label_test = to_categorical(label_test[:,2])\n",
        "print('左右手',LRhand_label_test.shape)\n",
        "finger_label_test = to_categorical(label_test[:,3])\n",
        "print('指頭',finger_label_test.shape)\n"
      ],
      "metadata": {
        "colab": {
          "base_uri": "https://localhost:8080/"
        },
        "id": "iWu-NU3kYhZx",
        "outputId": "f34d0af7-59a4-43f3-90e5-7f740f10dada"
      },
      "execution_count": 24,
      "outputs": [
        {
          "output_type": "stream",
          "name": "stdout",
          "text": [
            "訓練資料:\n",
            "身分 (4800, 600)\n",
            "性別 (4800, 2)\n",
            "左右手 (4800, 2)\n",
            "指頭 (4800, 5)\n",
            "驗證 :\n",
            "身分 (1200, 600)\n",
            "性別 (1200, 2)\n",
            "左右手 (1200, 2)\n",
            "指頭 (1200, 5)\n",
            "測試資料:\n",
            "身分 (1200, 600)\n",
            "性別 (1200, 2)\n",
            "左右手 (1200, 2)\n",
            "指頭 (1200, 5)\n"
          ]
        }
      ]
    },
    {
      "cell_type": "code",
      "source": [
        "#id model\n",
        "\n",
        "model = Sequential()\n",
        "model.add(GlobalAveragePooling2D(input_shape=train_features.shape[1:]))\n",
        "model.add(Dropout(0.5))\n",
        "model.add(Dense(600, activation='softmax'))\n",
        "\n",
        "model.compile(loss='categorical_crossentropy', optimizer='adam',metrics=['accuracy'])\n",
        "\n",
        "history = model.fit(train_features,id_label_train, validation_data=(val_features, id_label_val),\n",
        "                    epochs=100, batch_size=32, verbose=2)\n",
        "\n",
        "print(\"\\nTesting...\")\n",
        "loss, accuracy = model.evaluate(test_features,id_label_test,verbose=1)\n",
        "print(\"測試資料集準確度 = {:.2f}\".format(accuracy))\n"
      ],
      "metadata": {
        "colab": {
          "base_uri": "https://localhost:8080/"
        },
        "id": "srjv3Dr0ZNf9",
        "outputId": "2e957125-5a86-4d78-d2a2-6e263d195feb"
      },
      "execution_count": 25,
      "outputs": [
        {
          "output_type": "stream",
          "name": "stdout",
          "text": [
            "Train on 4800 samples, validate on 1200 samples\n",
            "Epoch 1/100\n",
            "4800/4800 - 1s - loss: 8.8391 - accuracy: 0.0098 - val_loss: 6.4343 - val_accuracy: 0.0408\n",
            "Epoch 2/100\n",
            "4800/4800 - 1s - loss: 5.8536 - accuracy: 0.0833 - val_loss: 6.3054 - val_accuracy: 0.0708\n",
            "Epoch 3/100\n",
            "4800/4800 - 1s - loss: 4.4287 - accuracy: 0.1854 - val_loss: 6.1653 - val_accuracy: 0.0833\n",
            "Epoch 4/100\n",
            "4800/4800 - 1s - loss: 3.4788 - accuracy: 0.2777 - val_loss: 6.1693 - val_accuracy: 0.1100\n",
            "Epoch 5/100\n",
            "4800/4800 - 1s - loss: 2.7353 - accuracy: 0.3977 - val_loss: 6.0404 - val_accuracy: 0.1333\n",
            "Epoch 6/100\n",
            "4800/4800 - 1s - loss: 2.1930 - accuracy: 0.4854 - val_loss: 6.2298 - val_accuracy: 0.1367\n",
            "Epoch 7/100\n",
            "4800/4800 - 1s - loss: 1.7668 - accuracy: 0.5602 - val_loss: 6.0198 - val_accuracy: 0.1700\n",
            "Epoch 8/100\n",
            "4800/4800 - 1s - loss: 1.4537 - accuracy: 0.6360 - val_loss: 6.1444 - val_accuracy: 0.1675\n",
            "Epoch 9/100\n",
            "4800/4800 - 1s - loss: 1.2574 - accuracy: 0.6773 - val_loss: 6.1214 - val_accuracy: 0.1758\n",
            "Epoch 10/100\n",
            "4800/4800 - 1s - loss: 1.0700 - accuracy: 0.7225 - val_loss: 6.1119 - val_accuracy: 0.1725\n",
            "Epoch 11/100\n",
            "4800/4800 - 1s - loss: 0.8725 - accuracy: 0.7698 - val_loss: 6.1469 - val_accuracy: 0.1867\n",
            "Epoch 12/100\n",
            "4800/4800 - 1s - loss: 0.7800 - accuracy: 0.7960 - val_loss: 6.1824 - val_accuracy: 0.1892\n",
            "Epoch 13/100\n",
            "4800/4800 - 1s - loss: 0.6897 - accuracy: 0.8175 - val_loss: 6.2770 - val_accuracy: 0.2050\n",
            "Epoch 14/100\n",
            "4800/4800 - 1s - loss: 0.6115 - accuracy: 0.8377 - val_loss: 6.3723 - val_accuracy: 0.1908\n",
            "Epoch 15/100\n",
            "4800/4800 - 1s - loss: 0.5485 - accuracy: 0.8510 - val_loss: 6.4005 - val_accuracy: 0.1883\n",
            "Epoch 16/100\n",
            "4800/4800 - 1s - loss: 0.4858 - accuracy: 0.8723 - val_loss: 6.5299 - val_accuracy: 0.1983\n",
            "Epoch 17/100\n",
            "4800/4800 - 1s - loss: 0.4204 - accuracy: 0.8913 - val_loss: 6.6303 - val_accuracy: 0.1992\n",
            "Epoch 18/100\n",
            "4800/4800 - 1s - loss: 0.3921 - accuracy: 0.8960 - val_loss: 6.5378 - val_accuracy: 0.2142\n",
            "Epoch 19/100\n",
            "4800/4800 - 1s - loss: 0.3731 - accuracy: 0.8990 - val_loss: 6.6883 - val_accuracy: 0.1950\n",
            "Epoch 20/100\n",
            "4800/4800 - 1s - loss: 0.3508 - accuracy: 0.9062 - val_loss: 6.7488 - val_accuracy: 0.2017\n",
            "Epoch 21/100\n",
            "4800/4800 - 1s - loss: 0.3384 - accuracy: 0.9090 - val_loss: 6.7847 - val_accuracy: 0.2033\n",
            "Epoch 22/100\n",
            "4800/4800 - 1s - loss: 0.3128 - accuracy: 0.9123 - val_loss: 6.8555 - val_accuracy: 0.2017\n",
            "Epoch 23/100\n",
            "4800/4800 - 1s - loss: 0.2924 - accuracy: 0.9217 - val_loss: 6.8273 - val_accuracy: 0.2058\n",
            "Epoch 24/100\n",
            "4800/4800 - 1s - loss: 0.2922 - accuracy: 0.9221 - val_loss: 7.0005 - val_accuracy: 0.2067\n",
            "Epoch 25/100\n",
            "4800/4800 - 1s - loss: 0.2520 - accuracy: 0.9319 - val_loss: 7.0510 - val_accuracy: 0.1975\n",
            "Epoch 26/100\n",
            "4800/4800 - 1s - loss: 0.2568 - accuracy: 0.9310 - val_loss: 7.0556 - val_accuracy: 0.2042\n",
            "Epoch 27/100\n",
            "4800/4800 - 1s - loss: 0.2414 - accuracy: 0.9340 - val_loss: 7.0998 - val_accuracy: 0.2017\n",
            "Epoch 28/100\n",
            "4800/4800 - 1s - loss: 0.2211 - accuracy: 0.9423 - val_loss: 7.1011 - val_accuracy: 0.2158\n",
            "Epoch 29/100\n",
            "4800/4800 - 1s - loss: 0.2116 - accuracy: 0.9431 - val_loss: 7.2679 - val_accuracy: 0.2092\n",
            "Epoch 30/100\n",
            "4800/4800 - 1s - loss: 0.2089 - accuracy: 0.9429 - val_loss: 7.2619 - val_accuracy: 0.2025\n",
            "Epoch 31/100\n",
            "4800/4800 - 1s - loss: 0.2152 - accuracy: 0.9415 - val_loss: 7.2759 - val_accuracy: 0.2025\n",
            "Epoch 32/100\n",
            "4800/4800 - 1s - loss: 0.1982 - accuracy: 0.9494 - val_loss: 7.4081 - val_accuracy: 0.2050\n",
            "Epoch 33/100\n",
            "4800/4800 - 1s - loss: 0.2074 - accuracy: 0.9410 - val_loss: 7.4800 - val_accuracy: 0.2000\n",
            "Epoch 34/100\n",
            "4800/4800 - 1s - loss: 0.2346 - accuracy: 0.9365 - val_loss: 7.5581 - val_accuracy: 0.2092\n",
            "Epoch 35/100\n",
            "4800/4800 - 1s - loss: 0.1747 - accuracy: 0.9490 - val_loss: 7.5694 - val_accuracy: 0.2033\n",
            "Epoch 36/100\n",
            "4800/4800 - 1s - loss: 0.2047 - accuracy: 0.9446 - val_loss: 7.7032 - val_accuracy: 0.2092\n",
            "Epoch 37/100\n",
            "4800/4800 - 1s - loss: 0.1678 - accuracy: 0.9540 - val_loss: 7.8579 - val_accuracy: 0.2008\n",
            "Epoch 38/100\n",
            "4800/4800 - 1s - loss: 0.1777 - accuracy: 0.9500 - val_loss: 7.7027 - val_accuracy: 0.2125\n",
            "Epoch 39/100\n",
            "4800/4800 - 1s - loss: 0.1851 - accuracy: 0.9471 - val_loss: 7.8009 - val_accuracy: 0.2158\n",
            "Epoch 40/100\n",
            "4800/4800 - 1s - loss: 0.1932 - accuracy: 0.9415 - val_loss: 7.8347 - val_accuracy: 0.2183\n",
            "Epoch 41/100\n",
            "4800/4800 - 1s - loss: 0.1879 - accuracy: 0.9477 - val_loss: 7.8207 - val_accuracy: 0.2125\n",
            "Epoch 42/100\n",
            "4800/4800 - 1s - loss: 0.1507 - accuracy: 0.9542 - val_loss: 7.9933 - val_accuracy: 0.2125\n",
            "Epoch 43/100\n",
            "4800/4800 - 1s - loss: 0.1513 - accuracy: 0.9588 - val_loss: 7.9370 - val_accuracy: 0.2142\n",
            "Epoch 44/100\n",
            "4800/4800 - 1s - loss: 0.1666 - accuracy: 0.9498 - val_loss: 8.0577 - val_accuracy: 0.2100\n",
            "Epoch 45/100\n",
            "4800/4800 - 1s - loss: 0.1926 - accuracy: 0.9406 - val_loss: 8.1087 - val_accuracy: 0.2075\n",
            "Epoch 46/100\n",
            "4800/4800 - 1s - loss: 0.1905 - accuracy: 0.9477 - val_loss: 8.2854 - val_accuracy: 0.2083\n",
            "Epoch 47/100\n",
            "4800/4800 - 1s - loss: 0.1996 - accuracy: 0.9440 - val_loss: 8.3861 - val_accuracy: 0.2092\n",
            "Epoch 48/100\n",
            "4800/4800 - 1s - loss: 0.1662 - accuracy: 0.9510 - val_loss: 8.0842 - val_accuracy: 0.2150\n",
            "Epoch 49/100\n",
            "4800/4800 - 1s - loss: 0.1496 - accuracy: 0.9556 - val_loss: 8.3161 - val_accuracy: 0.2167\n",
            "Epoch 50/100\n",
            "4800/4800 - 1s - loss: 0.1545 - accuracy: 0.9527 - val_loss: 8.3602 - val_accuracy: 0.2075\n",
            "Epoch 51/100\n",
            "4800/4800 - 1s - loss: 0.1401 - accuracy: 0.9585 - val_loss: 8.5258 - val_accuracy: 0.2125\n",
            "Epoch 52/100\n",
            "4800/4800 - 1s - loss: 0.1441 - accuracy: 0.9588 - val_loss: 8.4413 - val_accuracy: 0.2108\n",
            "Epoch 53/100\n",
            "4800/4800 - 1s - loss: 0.1497 - accuracy: 0.9556 - val_loss: 8.7003 - val_accuracy: 0.1967\n",
            "Epoch 54/100\n",
            "4800/4800 - 1s - loss: 0.1548 - accuracy: 0.9538 - val_loss: 8.8085 - val_accuracy: 0.2058\n",
            "Epoch 55/100\n",
            "4800/4800 - 1s - loss: 0.1435 - accuracy: 0.9560 - val_loss: 8.4881 - val_accuracy: 0.2225\n",
            "Epoch 56/100\n",
            "4800/4800 - 1s - loss: 0.1449 - accuracy: 0.9563 - val_loss: 9.1023 - val_accuracy: 0.2017\n",
            "Epoch 57/100\n",
            "4800/4800 - 1s - loss: 0.1555 - accuracy: 0.9538 - val_loss: 8.7317 - val_accuracy: 0.1983\n",
            "Epoch 58/100\n",
            "4800/4800 - 1s - loss: 0.1724 - accuracy: 0.9517 - val_loss: 8.6915 - val_accuracy: 0.2067\n",
            "Epoch 59/100\n",
            "4800/4800 - 1s - loss: 0.1432 - accuracy: 0.9592 - val_loss: 8.8632 - val_accuracy: 0.2233\n",
            "Epoch 60/100\n",
            "4800/4800 - 1s - loss: 0.1753 - accuracy: 0.9477 - val_loss: 8.9428 - val_accuracy: 0.2142\n",
            "Epoch 61/100\n",
            "4800/4800 - 1s - loss: 0.1456 - accuracy: 0.9569 - val_loss: 9.0283 - val_accuracy: 0.2125\n",
            "Epoch 62/100\n",
            "4800/4800 - 1s - loss: 0.1500 - accuracy: 0.9502 - val_loss: 9.1004 - val_accuracy: 0.2125\n",
            "Epoch 63/100\n",
            "4800/4800 - 1s - loss: 0.1393 - accuracy: 0.9594 - val_loss: 9.1293 - val_accuracy: 0.2092\n",
            "Epoch 64/100\n",
            "4800/4800 - 1s - loss: 0.1196 - accuracy: 0.9660 - val_loss: 9.0210 - val_accuracy: 0.2142\n",
            "Epoch 65/100\n",
            "4800/4800 - 1s - loss: 0.1040 - accuracy: 0.9698 - val_loss: 9.1263 - val_accuracy: 0.2167\n",
            "Epoch 66/100\n",
            "4800/4800 - 1s - loss: 0.1383 - accuracy: 0.9579 - val_loss: 9.2796 - val_accuracy: 0.2192\n",
            "Epoch 67/100\n",
            "4800/4800 - 1s - loss: 0.1622 - accuracy: 0.9519 - val_loss: 9.3024 - val_accuracy: 0.2125\n",
            "Epoch 68/100\n",
            "4800/4800 - 1s - loss: 0.1385 - accuracy: 0.9606 - val_loss: 9.4038 - val_accuracy: 0.2117\n",
            "Epoch 69/100\n",
            "4800/4800 - 1s - loss: 0.1168 - accuracy: 0.9633 - val_loss: 9.3168 - val_accuracy: 0.2300\n",
            "Epoch 70/100\n",
            "4800/4800 - 1s - loss: 0.1286 - accuracy: 0.9617 - val_loss: 9.2804 - val_accuracy: 0.2225\n",
            "Epoch 71/100\n",
            "4800/4800 - 1s - loss: 0.1278 - accuracy: 0.9644 - val_loss: 9.1266 - val_accuracy: 0.2300\n",
            "Epoch 72/100\n",
            "4800/4800 - 1s - loss: 0.1316 - accuracy: 0.9642 - val_loss: 9.3514 - val_accuracy: 0.2225\n",
            "Epoch 73/100\n",
            "4800/4800 - 1s - loss: 0.1416 - accuracy: 0.9556 - val_loss: 9.6796 - val_accuracy: 0.2133\n",
            "Epoch 74/100\n",
            "4800/4800 - 1s - loss: 0.1483 - accuracy: 0.9538 - val_loss: 9.7144 - val_accuracy: 0.2067\n",
            "Epoch 75/100\n",
            "4800/4800 - 1s - loss: 0.1356 - accuracy: 0.9581 - val_loss: 9.5164 - val_accuracy: 0.2183\n",
            "Epoch 76/100\n",
            "4800/4800 - 1s - loss: 0.1197 - accuracy: 0.9660 - val_loss: 9.4921 - val_accuracy: 0.2208\n",
            "Epoch 77/100\n",
            "4800/4800 - 1s - loss: 0.1287 - accuracy: 0.9571 - val_loss: 9.5193 - val_accuracy: 0.2183\n",
            "Epoch 78/100\n",
            "4800/4800 - 1s - loss: 0.1223 - accuracy: 0.9617 - val_loss: 9.8619 - val_accuracy: 0.2117\n",
            "Epoch 79/100\n",
            "4800/4800 - 1s - loss: 0.1432 - accuracy: 0.9575 - val_loss: 9.9154 - val_accuracy: 0.2100\n",
            "Epoch 80/100\n",
            "4800/4800 - 1s - loss: 0.1295 - accuracy: 0.9600 - val_loss: 9.8928 - val_accuracy: 0.2133\n",
            "Epoch 81/100\n",
            "4800/4800 - 1s - loss: 0.1163 - accuracy: 0.9652 - val_loss: 9.9805 - val_accuracy: 0.2050\n",
            "Epoch 82/100\n",
            "4800/4800 - 1s - loss: 0.1172 - accuracy: 0.9658 - val_loss: 9.6189 - val_accuracy: 0.2150\n",
            "Epoch 83/100\n",
            "4800/4800 - 1s - loss: 0.1300 - accuracy: 0.9640 - val_loss: 9.9552 - val_accuracy: 0.2117\n",
            "Epoch 84/100\n",
            "4800/4800 - 1s - loss: 0.1038 - accuracy: 0.9683 - val_loss: 9.8257 - val_accuracy: 0.2183\n",
            "Epoch 85/100\n",
            "4800/4800 - 1s - loss: 0.1248 - accuracy: 0.9652 - val_loss: 9.7355 - val_accuracy: 0.2175\n",
            "Epoch 86/100\n",
            "4800/4800 - 1s - loss: 0.1097 - accuracy: 0.9673 - val_loss: 9.8249 - val_accuracy: 0.2192\n",
            "Epoch 87/100\n",
            "4800/4800 - 1s - loss: 0.1220 - accuracy: 0.9631 - val_loss: 9.8714 - val_accuracy: 0.2067\n",
            "Epoch 88/100\n",
            "4800/4800 - 1s - loss: 0.1370 - accuracy: 0.9619 - val_loss: 9.9039 - val_accuracy: 0.2258\n",
            "Epoch 89/100\n",
            "4800/4800 - 1s - loss: 0.1146 - accuracy: 0.9629 - val_loss: 9.8894 - val_accuracy: 0.2325\n",
            "Epoch 90/100\n",
            "4800/4800 - 1s - loss: 0.1210 - accuracy: 0.9629 - val_loss: 10.0087 - val_accuracy: 0.2175\n",
            "Epoch 91/100\n",
            "4800/4800 - 1s - loss: 0.1153 - accuracy: 0.9654 - val_loss: 10.0204 - val_accuracy: 0.2158\n",
            "Epoch 92/100\n",
            "4800/4800 - 1s - loss: 0.1283 - accuracy: 0.9646 - val_loss: 10.0929 - val_accuracy: 0.2200\n",
            "Epoch 93/100\n",
            "4800/4800 - 1s - loss: 0.1427 - accuracy: 0.9592 - val_loss: 10.1163 - val_accuracy: 0.2100\n",
            "Epoch 94/100\n",
            "4800/4800 - 1s - loss: 0.0905 - accuracy: 0.9735 - val_loss: 10.0984 - val_accuracy: 0.2242\n",
            "Epoch 95/100\n",
            "4800/4800 - 1s - loss: 0.1181 - accuracy: 0.9648 - val_loss: 10.5288 - val_accuracy: 0.2067\n",
            "Epoch 96/100\n",
            "4800/4800 - 1s - loss: 0.1073 - accuracy: 0.9652 - val_loss: 10.1346 - val_accuracy: 0.2083\n",
            "Epoch 97/100\n",
            "4800/4800 - 1s - loss: 0.1201 - accuracy: 0.9652 - val_loss: 10.1082 - val_accuracy: 0.2333\n",
            "Epoch 98/100\n",
            "4800/4800 - 1s - loss: 0.0979 - accuracy: 0.9706 - val_loss: 10.1697 - val_accuracy: 0.2200\n",
            "Epoch 99/100\n",
            "4800/4800 - 1s - loss: 0.1223 - accuracy: 0.9677 - val_loss: 10.2680 - val_accuracy: 0.2200\n",
            "Epoch 100/100\n",
            "4800/4800 - 1s - loss: 0.1026 - accuracy: 0.9694 - val_loss: 10.3172 - val_accuracy: 0.2292\n",
            "\n",
            "Testing...\n",
            "1200/1200 [==============================] - 0s 155us/sample - loss: 8.0031 - accuracy: 0.3667\n",
            "測試資料集準確度 = 0.37\n"
          ]
        }
      ]
    },
    {
      "cell_type": "code",
      "source": [
        "model.summary()"
      ],
      "metadata": {
        "colab": {
          "base_uri": "https://localhost:8080/"
        },
        "id": "pzHEvYAwakD6",
        "outputId": "5f6e139d-4cc8-43ee-b027-001f5496031f"
      },
      "execution_count": 26,
      "outputs": [
        {
          "output_type": "stream",
          "name": "stdout",
          "text": [
            "Model: \"sequential\"\n",
            "_________________________________________________________________\n",
            "Layer (type)                 Output Shape              Param #   \n",
            "=================================================================\n",
            "global_average_pooling2d (Gl (None, 2048)              0         \n",
            "_________________________________________________________________\n",
            "dropout (Dropout)            (None, 2048)              0         \n",
            "_________________________________________________________________\n",
            "dense (Dense)                (None, 600)               1229400   \n",
            "=================================================================\n",
            "Total params: 1,229,400\n",
            "Trainable params: 1,229,400\n",
            "Non-trainable params: 0\n",
            "_________________________________________________________________\n"
          ]
        }
      ]
    },
    {
      "cell_type": "code",
      "source": [
        "model.save('/content/resnet50_fpAll_id.h5')"
      ],
      "metadata": {
        "id": "YZInB6jHamNu"
      },
      "execution_count": 27,
      "outputs": []
    },
    {
      "cell_type": "code",
      "source": [
        "# 顯示訓練和測試損失\n",
        "loss = history.history['loss']\n",
        "epochs = range(1, len(loss) + 1)\n",
        "val_loss = history.history['val_loss']\n",
        "plt.plot(epochs, loss, 'b-', label='Training Loss')\n",
        "plt.plot(epochs, val_loss, 'r--', label='Validation Loss')\n",
        "plt.title('Id - Training and Validation Loss')\n",
        "plt.xlabel('Epochs')\n",
        "plt.ylabel('Loss')\n",
        "plt.legend()\n",
        "plt.show()\n",
        "\n",
        "acc = history.history['accuracy']\n",
        "epochs = range(1, len(acc) + 1)\n",
        "val_acc = history.history['val_accuracy']\n",
        "plt.plot(epochs, acc, 'b-', label='Training acc')\n",
        "plt.plot(epochs, val_loss, 'r--', label='Validation acc')\n",
        "plt.title('Id - Training and Validation Loss')\n",
        "plt.xlabel('Epochs')\n",
        "plt.ylabel('Accuracy')\n",
        "plt.legend()\n",
        "plt.show()"
      ],
      "metadata": {
        "colab": {
          "base_uri": "https://localhost:8080/",
          "height": 573
        },
        "id": "t9QJhI-Ta6Qh",
        "outputId": "56698404-fb38-4145-f6c9-68f7e30ffe9c"
      },
      "execution_count": 28,
      "outputs": [
        {
          "output_type": "display_data",
          "data": {
            "text/plain": [
              "<Figure size 432x288 with 1 Axes>"
            ],
            "image/png": "[encoded data removed]"
          },
          "metadata": {
            "needs_background": "light"
          }
        },
        {
          "output_type": "display_data",
          "data": {
            "text/plain": [
              "<Figure size 432x288 with 1 Axes>"
            ],
            "image/png": "[encoded data removed]"
          },
          "metadata": {
            "needs_background": "light"
          }
        }
      ]
    },
    {
      "cell_type": "code",
      "source": [
        "#gender model\n",
        "model_g = Sequential()\n",
        "model_g.add(GlobalAveragePooling2D(input_shape=train_features.shape[1:]))\n",
        "model_g.add(Dropout(0.5))\n",
        "model_g.add(Dense(2, activation='softmax'))\n",
        "\n",
        "model_g.compile(loss='binary_crossentropy', optimizer='adam',metrics=['accuracy'])\n",
        "\n",
        "history_g = model_g.fit(train_features,gender_label_train, validation_data=(val_features, gender_label_val),\n",
        "                    epochs=100, batch_size=32, verbose=2)\n",
        "print(\"\\nTesting...\")\n",
        "loss, accuracy = model_g.evaluate(test_features,gender_label_test,verbose=1)\n",
        "print(\"測試資料集準確度 = {:.2f}\".format(accuracy))"
      ],
      "metadata": {
        "colab": {
          "base_uri": "https://localhost:8080/"
        },
        "id": "Z3WVursobd_H",
        "outputId": "8d773d47-144a-4fc4-8d91-977b173726db"
      },
      "execution_count": 29,
      "outputs": [
        {
          "output_type": "stream",
          "name": "stdout",
          "text": [
            "Train on 4800 samples, validate on 1200 samples\n",
            "Epoch 1/100\n",
            "4800/4800 - 1s - loss: 0.8238 - accuracy: 0.7165 - val_loss: 0.5175 - val_accuracy: 0.8175\n",
            "Epoch 2/100\n",
            "4800/4800 - 1s - loss: 0.5957 - accuracy: 0.7519 - val_loss: 0.4525 - val_accuracy: 0.8258\n",
            "Epoch 3/100\n",
            "4800/4800 - 1s - loss: 0.5448 - accuracy: 0.7731 - val_loss: 0.4293 - val_accuracy: 0.8192\n",
            "Epoch 4/100\n",
            "4800/4800 - 1s - loss: 0.5048 - accuracy: 0.7842 - val_loss: 0.4399 - val_accuracy: 0.8108\n",
            "Epoch 5/100\n",
            "4800/4800 - 1s - loss: 0.4976 - accuracy: 0.7887 - val_loss: 0.4450 - val_accuracy: 0.8225\n",
            "Epoch 6/100\n",
            "4800/4800 - 1s - loss: 0.4801 - accuracy: 0.7948 - val_loss: 0.4243 - val_accuracy: 0.8283\n",
            "Epoch 7/100\n",
            "4800/4800 - 1s - loss: 0.4887 - accuracy: 0.7883 - val_loss: 0.5193 - val_accuracy: 0.8200\n",
            "Epoch 8/100\n",
            "4800/4800 - 1s - loss: 0.5006 - accuracy: 0.7844 - val_loss: 0.4121 - val_accuracy: 0.8283\n",
            "Epoch 9/100\n",
            "4800/4800 - 1s - loss: 0.4856 - accuracy: 0.7896 - val_loss: 0.4427 - val_accuracy: 0.8258\n",
            "Epoch 10/100\n",
            "4800/4800 - 1s - loss: 0.4760 - accuracy: 0.7927 - val_loss: 0.4264 - val_accuracy: 0.8317\n",
            "Epoch 11/100\n",
            "4800/4800 - 1s - loss: 0.4817 - accuracy: 0.7962 - val_loss: 0.4276 - val_accuracy: 0.8192\n",
            "Epoch 12/100\n",
            "4800/4800 - 1s - loss: 0.4764 - accuracy: 0.7933 - val_loss: 0.4178 - val_accuracy: 0.8317\n",
            "Epoch 13/100\n",
            "4800/4800 - 1s - loss: 0.4703 - accuracy: 0.7906 - val_loss: 0.4181 - val_accuracy: 0.8275\n",
            "Epoch 14/100\n",
            "4800/4800 - 1s - loss: 0.4800 - accuracy: 0.7965 - val_loss: 0.4501 - val_accuracy: 0.8258\n",
            "Epoch 15/100\n",
            "4800/4800 - 1s - loss: 0.4817 - accuracy: 0.7890 - val_loss: 0.4214 - val_accuracy: 0.8283\n",
            "Epoch 16/100\n",
            "4800/4800 - 1s - loss: 0.4803 - accuracy: 0.7965 - val_loss: 0.4642 - val_accuracy: 0.8242\n",
            "Epoch 17/100\n",
            "4800/4800 - 1s - loss: 0.4874 - accuracy: 0.7950 - val_loss: 0.4389 - val_accuracy: 0.8033\n",
            "Epoch 18/100\n",
            "4800/4800 - 1s - loss: 0.4731 - accuracy: 0.7977 - val_loss: 0.4402 - val_accuracy: 0.8233\n",
            "Epoch 19/100\n",
            "4800/4800 - 1s - loss: 0.4838 - accuracy: 0.7933 - val_loss: 0.5792 - val_accuracy: 0.8183\n",
            "Epoch 20/100\n",
            "4800/4800 - 1s - loss: 0.4857 - accuracy: 0.7944 - val_loss: 0.4128 - val_accuracy: 0.8258\n",
            "Epoch 21/100\n",
            "4800/4800 - 1s - loss: 0.4695 - accuracy: 0.7960 - val_loss: 0.4244 - val_accuracy: 0.8292\n",
            "Epoch 22/100\n",
            "4800/4800 - 1s - loss: 0.4844 - accuracy: 0.7898 - val_loss: 0.4549 - val_accuracy: 0.7925\n",
            "Epoch 23/100\n",
            "4800/4800 - 1s - loss: 0.4768 - accuracy: 0.7979 - val_loss: 0.4143 - val_accuracy: 0.8292\n",
            "Epoch 24/100\n",
            "4800/4800 - 1s - loss: 0.4720 - accuracy: 0.7944 - val_loss: 0.4505 - val_accuracy: 0.8225\n",
            "Epoch 25/100\n",
            "4800/4800 - 1s - loss: 0.4878 - accuracy: 0.7944 - val_loss: 0.4514 - val_accuracy: 0.8225\n",
            "Epoch 26/100\n",
            "4800/4800 - 1s - loss: 0.4793 - accuracy: 0.7981 - val_loss: 0.4465 - val_accuracy: 0.8050\n",
            "Epoch 27/100\n",
            "4800/4800 - 1s - loss: 0.4601 - accuracy: 0.8052 - val_loss: 0.4260 - val_accuracy: 0.8267\n",
            "Epoch 28/100\n",
            "4800/4800 - 1s - loss: 0.4826 - accuracy: 0.7944 - val_loss: 0.4525 - val_accuracy: 0.8225\n",
            "Epoch 29/100\n",
            "4800/4800 - 1s - loss: 0.4684 - accuracy: 0.8000 - val_loss: 0.4221 - val_accuracy: 0.8258\n",
            "Epoch 30/100\n",
            "4800/4800 - 1s - loss: 0.4789 - accuracy: 0.7967 - val_loss: 0.4362 - val_accuracy: 0.8275\n",
            "Epoch 31/100\n",
            "4800/4800 - 1s - loss: 0.4705 - accuracy: 0.8027 - val_loss: 0.4294 - val_accuracy: 0.8300\n",
            "Epoch 32/100\n",
            "4800/4800 - 1s - loss: 0.4862 - accuracy: 0.7923 - val_loss: 0.4231 - val_accuracy: 0.8200\n",
            "Epoch 33/100\n",
            "4800/4800 - 1s - loss: 0.4694 - accuracy: 0.8015 - val_loss: 0.4305 - val_accuracy: 0.8183\n",
            "Epoch 34/100\n",
            "4800/4800 - 1s - loss: 0.4848 - accuracy: 0.8042 - val_loss: 0.4603 - val_accuracy: 0.8217\n",
            "Epoch 35/100\n",
            "4800/4800 - 1s - loss: 0.4752 - accuracy: 0.7929 - val_loss: 0.4250 - val_accuracy: 0.8242\n",
            "Epoch 36/100\n",
            "4800/4800 - 1s - loss: 0.4849 - accuracy: 0.7973 - val_loss: 0.4439 - val_accuracy: 0.8200\n",
            "Epoch 37/100\n",
            "4800/4800 - 1s - loss: 0.4773 - accuracy: 0.7931 - val_loss: 0.4383 - val_accuracy: 0.8108\n",
            "Epoch 38/100\n",
            "4800/4800 - 1s - loss: 0.4599 - accuracy: 0.8029 - val_loss: 0.4434 - val_accuracy: 0.8233\n",
            "Epoch 39/100\n",
            "4800/4800 - 1s - loss: 0.5001 - accuracy: 0.7892 - val_loss: 0.4397 - val_accuracy: 0.8258\n",
            "Epoch 40/100\n",
            "4800/4800 - 1s - loss: 0.4880 - accuracy: 0.7902 - val_loss: 0.5394 - val_accuracy: 0.8192\n",
            "Epoch 41/100\n",
            "4800/4800 - 1s - loss: 0.4920 - accuracy: 0.8025 - val_loss: 0.4317 - val_accuracy: 0.8133\n",
            "Epoch 42/100\n",
            "4800/4800 - 1s - loss: 0.4826 - accuracy: 0.7915 - val_loss: 0.5320 - val_accuracy: 0.8175\n",
            "Epoch 43/100\n",
            "4800/4800 - 1s - loss: 0.5096 - accuracy: 0.7894 - val_loss: 0.4474 - val_accuracy: 0.8217\n",
            "Epoch 44/100\n",
            "4800/4800 - 1s - loss: 0.4812 - accuracy: 0.7956 - val_loss: 0.4321 - val_accuracy: 0.8167\n",
            "Epoch 45/100\n",
            "4800/4800 - 1s - loss: 0.4844 - accuracy: 0.7981 - val_loss: 0.4510 - val_accuracy: 0.7950\n",
            "Epoch 46/100\n",
            "4800/4800 - 1s - loss: 0.4715 - accuracy: 0.8027 - val_loss: 0.4236 - val_accuracy: 0.8233\n",
            "Epoch 47/100\n",
            "4800/4800 - 1s - loss: 0.4705 - accuracy: 0.8006 - val_loss: 0.4254 - val_accuracy: 0.8208\n",
            "Epoch 48/100\n",
            "4800/4800 - 1s - loss: 0.4788 - accuracy: 0.7990 - val_loss: 0.5404 - val_accuracy: 0.7450\n",
            "Epoch 49/100\n",
            "4800/4800 - 1s - loss: 0.4734 - accuracy: 0.8002 - val_loss: 0.4472 - val_accuracy: 0.8100\n",
            "Epoch 50/100\n",
            "4800/4800 - 1s - loss: 0.4642 - accuracy: 0.8031 - val_loss: 0.4776 - val_accuracy: 0.8233\n",
            "Epoch 51/100\n",
            "4800/4800 - 1s - loss: 0.4843 - accuracy: 0.7942 - val_loss: 0.4991 - val_accuracy: 0.7700\n",
            "Epoch 52/100\n",
            "4800/4800 - 1s - loss: 0.4701 - accuracy: 0.8008 - val_loss: 0.4586 - val_accuracy: 0.8208\n",
            "Epoch 53/100\n",
            "4800/4800 - 1s - loss: 0.4861 - accuracy: 0.7956 - val_loss: 0.4537 - val_accuracy: 0.8250\n",
            "Epoch 54/100\n",
            "4800/4800 - 1s - loss: 0.4787 - accuracy: 0.7969 - val_loss: 0.4785 - val_accuracy: 0.8200\n",
            "Epoch 55/100\n",
            "4800/4800 - 1s - loss: 0.4707 - accuracy: 0.8010 - val_loss: 0.4305 - val_accuracy: 0.8258\n",
            "Epoch 56/100\n",
            "4800/4800 - 1s - loss: 0.4805 - accuracy: 0.8017 - val_loss: 0.4341 - val_accuracy: 0.8158\n",
            "Epoch 57/100\n",
            "4800/4800 - 1s - loss: 0.4747 - accuracy: 0.7969 - val_loss: 0.4584 - val_accuracy: 0.8008\n",
            "Epoch 58/100\n",
            "4800/4800 - 1s - loss: 0.4761 - accuracy: 0.7960 - val_loss: 0.5074 - val_accuracy: 0.8192\n",
            "Epoch 59/100\n",
            "4800/4800 - 1s - loss: 0.4846 - accuracy: 0.7929 - val_loss: 0.4368 - val_accuracy: 0.8200\n",
            "Epoch 60/100\n",
            "4800/4800 - 1s - loss: 0.4759 - accuracy: 0.7998 - val_loss: 0.4348 - val_accuracy: 0.8050\n",
            "Epoch 61/100\n",
            "4800/4800 - 1s - loss: 0.4647 - accuracy: 0.8010 - val_loss: 0.4137 - val_accuracy: 0.8267\n",
            "Epoch 62/100\n",
            "4800/4800 - 1s - loss: 0.4619 - accuracy: 0.8046 - val_loss: 0.4364 - val_accuracy: 0.8258\n",
            "Epoch 63/100\n",
            "4800/4800 - 1s - loss: 0.4958 - accuracy: 0.7933 - val_loss: 0.4472 - val_accuracy: 0.8100\n",
            "Epoch 64/100\n",
            "4800/4800 - 1s - loss: 0.4871 - accuracy: 0.7952 - val_loss: 0.4280 - val_accuracy: 0.8117\n",
            "Epoch 65/100\n",
            "4800/4800 - 1s - loss: 0.4895 - accuracy: 0.7873 - val_loss: 0.4366 - val_accuracy: 0.8258\n",
            "Epoch 66/100\n",
            "4800/4800 - 1s - loss: 0.4754 - accuracy: 0.7994 - val_loss: 0.5209 - val_accuracy: 0.7467\n",
            "Epoch 67/100\n",
            "4800/4800 - 1s - loss: 0.4777 - accuracy: 0.7910 - val_loss: 0.4395 - val_accuracy: 0.8108\n",
            "Epoch 68/100\n",
            "4800/4800 - 1s - loss: 0.4847 - accuracy: 0.7998 - val_loss: 0.4351 - val_accuracy: 0.8267\n",
            "Epoch 69/100\n",
            "4800/4800 - 1s - loss: 0.4752 - accuracy: 0.7996 - val_loss: 0.4462 - val_accuracy: 0.8217\n",
            "Epoch 70/100\n",
            "4800/4800 - 1s - loss: 0.4600 - accuracy: 0.8075 - val_loss: 0.4870 - val_accuracy: 0.8208\n",
            "Epoch 71/100\n",
            "4800/4800 - 1s - loss: 0.4757 - accuracy: 0.8008 - val_loss: 0.4277 - val_accuracy: 0.8275\n",
            "Epoch 72/100\n",
            "4800/4800 - 1s - loss: 0.5006 - accuracy: 0.7935 - val_loss: 0.5010 - val_accuracy: 0.8200\n",
            "Epoch 73/100\n",
            "4800/4800 - 1s - loss: 0.4884 - accuracy: 0.7946 - val_loss: 0.4247 - val_accuracy: 0.8242\n",
            "Epoch 74/100\n",
            "4800/4800 - 1s - loss: 0.4684 - accuracy: 0.8012 - val_loss: 0.4200 - val_accuracy: 0.8175\n",
            "Epoch 75/100\n",
            "4800/4800 - 1s - loss: 0.4649 - accuracy: 0.7992 - val_loss: 0.4324 - val_accuracy: 0.8200\n",
            "Epoch 76/100\n",
            "4800/4800 - 1s - loss: 0.4936 - accuracy: 0.7942 - val_loss: 0.5003 - val_accuracy: 0.8233\n",
            "Epoch 77/100\n",
            "4800/4800 - 1s - loss: 0.4800 - accuracy: 0.8004 - val_loss: 0.4355 - val_accuracy: 0.8083\n",
            "Epoch 78/100\n",
            "4800/4800 - 1s - loss: 0.4849 - accuracy: 0.7910 - val_loss: 0.4419 - val_accuracy: 0.8267\n",
            "Epoch 79/100\n",
            "4800/4800 - 1s - loss: 0.4857 - accuracy: 0.7975 - val_loss: 0.4407 - val_accuracy: 0.8208\n",
            "Epoch 80/100\n",
            "4800/4800 - 1s - loss: 0.4722 - accuracy: 0.7971 - val_loss: 0.4943 - val_accuracy: 0.7917\n",
            "Epoch 81/100\n",
            "4800/4800 - 1s - loss: 0.4840 - accuracy: 0.7967 - val_loss: 0.4306 - val_accuracy: 0.8233\n",
            "Epoch 82/100\n",
            "4800/4800 - 1s - loss: 0.4642 - accuracy: 0.7994 - val_loss: 0.4247 - val_accuracy: 0.8233\n",
            "Epoch 83/100\n",
            "4800/4800 - 1s - loss: 0.4673 - accuracy: 0.8033 - val_loss: 0.4347 - val_accuracy: 0.8292\n",
            "Epoch 84/100\n",
            "4800/4800 - 1s - loss: 0.4680 - accuracy: 0.8048 - val_loss: 0.4299 - val_accuracy: 0.8267\n",
            "Epoch 85/100\n",
            "4800/4800 - 1s - loss: 0.4721 - accuracy: 0.8031 - val_loss: 0.4374 - val_accuracy: 0.8242\n",
            "Epoch 86/100\n",
            "4800/4800 - 1s - loss: 0.4762 - accuracy: 0.7979 - val_loss: 0.4484 - val_accuracy: 0.8242\n",
            "Epoch 87/100\n",
            "4800/4800 - 1s - loss: 0.4673 - accuracy: 0.8033 - val_loss: 0.4925 - val_accuracy: 0.7750\n",
            "Epoch 88/100\n",
            "4800/4800 - 1s - loss: 0.5139 - accuracy: 0.7842 - val_loss: 0.4414 - val_accuracy: 0.8225\n",
            "Epoch 89/100\n",
            "4800/4800 - 1s - loss: 0.4750 - accuracy: 0.7985 - val_loss: 0.4919 - val_accuracy: 0.8192\n",
            "Epoch 90/100\n",
            "4800/4800 - 1s - loss: 0.4867 - accuracy: 0.7979 - val_loss: 0.4581 - val_accuracy: 0.8283\n",
            "Epoch 91/100\n",
            "4800/4800 - 1s - loss: 0.4771 - accuracy: 0.7977 - val_loss: 0.4414 - val_accuracy: 0.8167\n",
            "Epoch 92/100\n",
            "4800/4800 - 1s - loss: 0.4806 - accuracy: 0.7983 - val_loss: 0.4392 - val_accuracy: 0.8150\n",
            "Epoch 93/100\n",
            "4800/4800 - 1s - loss: 0.4832 - accuracy: 0.7977 - val_loss: 0.4335 - val_accuracy: 0.8242\n",
            "Epoch 94/100\n",
            "4800/4800 - 1s - loss: 0.4797 - accuracy: 0.7935 - val_loss: 0.4402 - val_accuracy: 0.8242\n",
            "Epoch 95/100\n",
            "4800/4800 - 1s - loss: 0.4700 - accuracy: 0.8006 - val_loss: 0.4302 - val_accuracy: 0.8200\n",
            "Epoch 96/100\n",
            "4800/4800 - 1s - loss: 0.4767 - accuracy: 0.8023 - val_loss: 0.4369 - val_accuracy: 0.8233\n",
            "Epoch 97/100\n",
            "4800/4800 - 1s - loss: 0.4973 - accuracy: 0.7973 - val_loss: 0.4757 - val_accuracy: 0.8250\n",
            "Epoch 98/100\n",
            "4800/4800 - 1s - loss: 0.4806 - accuracy: 0.7946 - val_loss: 0.4215 - val_accuracy: 0.8208\n",
            "Epoch 99/100\n",
            "4800/4800 - 1s - loss: 0.4678 - accuracy: 0.8000 - val_loss: 0.4221 - val_accuracy: 0.8208\n",
            "Epoch 100/100\n",
            "4800/4800 - 1s - loss: 0.4641 - accuracy: 0.8037 - val_loss: 0.4725 - val_accuracy: 0.8250\n",
            "\n",
            "Testing...\n",
            "1200/1200 [==============================] - 0s 120us/sample - loss: 0.4819 - accuracy: 0.8033\n",
            "測試資料集準確度 = 0.80\n"
          ]
        }
      ]
    },
    {
      "cell_type": "code",
      "source": [
        "model_g.save('/content/resnet50_fpAll_gneder.h5')"
      ],
      "metadata": {
        "id": "MRP98Q30co4D"
      },
      "execution_count": 30,
      "outputs": []
    },
    {
      "cell_type": "code",
      "source": [
        "# 顯示訓練和測試損失\n",
        "loss = history_g.history['loss']\n",
        "epochs = range(1, len(loss) + 1)\n",
        "val_loss = history_g.history['val_loss']\n",
        "plt.plot(epochs, loss, 'b-', label='Training Loss')\n",
        "plt.plot(epochs, val_loss, 'r--', label='Validation Loss')\n",
        "plt.title('Gender - Training and Validation Loss')\n",
        "plt.xlabel('Epochs')\n",
        "plt.ylabel('Loss')\n",
        "plt.legend()\n",
        "plt.show()\n",
        "\n",
        "acc = history_g.history['accuracy']\n",
        "epochs = range(1, len(acc) + 1)\n",
        "val_acc = history_g.history['val_accuracy']\n",
        "plt.plot(epochs, acc, 'b-', label='Training acc')\n",
        "plt.plot(epochs, val_loss, 'r--', label='Validation acc')\n",
        "plt.title('Gender - Training and Validation Loss')\n",
        "plt.xlabel('Epochs')\n",
        "plt.ylabel('Accuracy')\n",
        "plt.legend()\n",
        "plt.show()"
      ],
      "metadata": {
        "colab": {
          "base_uri": "https://localhost:8080/",
          "height": 573
        },
        "id": "mAo13E8Rc3Fv",
        "outputId": "fbf83d4d-22a9-43df-d2f3-397e69a9a6d7"
      },
      "execution_count": 31,
      "outputs": [
        {
          "output_type": "display_data",
          "data": {
            "text/plain": [
              "<Figure size 432x288 with 1 Axes>"
            ],
            "image/png": "[encoded data removed]"
          },
          "metadata": {
            "needs_background": "light"
          }
        },
        {
          "output_type": "display_data",
          "data": {
            "text/plain": [
              "<Figure size 432x288 with 1 Axes>"
            ],
            "image/png": "[encoded data removed]"
          },
          "metadata": {
            "needs_background": "light"
          }
        }
      ]
    },
    {
      "cell_type": "code",
      "source": [
        "#LRhand model\n",
        "model_LR = Sequential()\n",
        "model_LR.add(GlobalAveragePooling2D(input_shape=train_features.shape[1:]))\n",
        "model_LR.add(Dropout(0.5))\n",
        "model_LR.add(Dense(2, activation='softmax'))\n",
        "\n",
        "model_LR.compile(loss='binary_crossentropy', optimizer='adam',metrics=['accuracy'])\n",
        "\n",
        "history_LR = model_LR.fit(train_features,LRhand_label_train, validation_data=(val_features, LRhand_label_val),\n",
        "                    epochs=100, batch_size=32, verbose=2)\n",
        "print(\"\\nTesting...\")\n",
        "loss, accuracy = model_LR.evaluate(test_features,LRhand_label_test,verbose=1)\n",
        "print(\"測試資料集準確度 = {:.2f}\".format(accuracy))"
      ],
      "metadata": {
        "colab": {
          "base_uri": "https://localhost:8080/"
        },
        "id": "hPI5WeRZdDrT",
        "outputId": "1274baee-e036-465f-e648-1de37c06cc19"
      },
      "execution_count": 32,
      "outputs": [
        {
          "output_type": "stream",
          "name": "stdout",
          "text": [
            "Train on 4800 samples, validate on 1200 samples\n",
            "Epoch 1/100\n",
            "4800/4800 - 1s - loss: 1.0150 - accuracy: 0.5756 - val_loss: 0.5674 - val_accuracy: 0.7058\n",
            "Epoch 2/100\n",
            "4800/4800 - 1s - loss: 0.7210 - accuracy: 0.6400 - val_loss: 0.6117 - val_accuracy: 0.6642\n",
            "Epoch 3/100\n",
            "4800/4800 - 1s - loss: 0.6357 - accuracy: 0.6792 - val_loss: 0.5773 - val_accuracy: 0.7025\n",
            "Epoch 4/100\n",
            "4800/4800 - 1s - loss: 0.6059 - accuracy: 0.6954 - val_loss: 0.5221 - val_accuracy: 0.7375\n",
            "Epoch 5/100\n",
            "4800/4800 - 1s - loss: 0.6139 - accuracy: 0.6894 - val_loss: 0.5132 - val_accuracy: 0.7492\n",
            "Epoch 6/100\n",
            "4800/4800 - 1s - loss: 0.5995 - accuracy: 0.7073 - val_loss: 0.5196 - val_accuracy: 0.7400\n",
            "Epoch 7/100\n",
            "4800/4800 - 1s - loss: 0.5991 - accuracy: 0.6998 - val_loss: 0.5133 - val_accuracy: 0.7517\n",
            "Epoch 8/100\n",
            "4800/4800 - 1s - loss: 0.5936 - accuracy: 0.7085 - val_loss: 0.5139 - val_accuracy: 0.7383\n",
            "Epoch 9/100\n",
            "4800/4800 - 1s - loss: 0.6042 - accuracy: 0.7081 - val_loss: 0.5003 - val_accuracy: 0.7525\n",
            "Epoch 10/100\n",
            "4800/4800 - 1s - loss: 0.5941 - accuracy: 0.7042 - val_loss: 0.5144 - val_accuracy: 0.7392\n",
            "Epoch 11/100\n",
            "4800/4800 - 1s - loss: 0.5909 - accuracy: 0.7110 - val_loss: 0.5472 - val_accuracy: 0.7192\n",
            "Epoch 12/100\n",
            "4800/4800 - 1s - loss: 0.6194 - accuracy: 0.6985 - val_loss: 0.5696 - val_accuracy: 0.7117\n",
            "Epoch 13/100\n",
            "4800/4800 - 1s - loss: 0.5966 - accuracy: 0.7060 - val_loss: 0.4945 - val_accuracy: 0.7558\n",
            "Epoch 14/100\n",
            "4800/4800 - 1s - loss: 0.5667 - accuracy: 0.7240 - val_loss: 0.5084 - val_accuracy: 0.7508\n",
            "Epoch 15/100\n",
            "4800/4800 - 1s - loss: 0.5893 - accuracy: 0.7175 - val_loss: 0.5006 - val_accuracy: 0.7483\n",
            "Epoch 16/100\n",
            "4800/4800 - 1s - loss: 0.5790 - accuracy: 0.7208 - val_loss: 0.5682 - val_accuracy: 0.7058\n",
            "Epoch 17/100\n",
            "4800/4800 - 1s - loss: 0.5812 - accuracy: 0.7177 - val_loss: 0.5148 - val_accuracy: 0.7433\n",
            "Epoch 18/100\n",
            "4800/4800 - 1s - loss: 0.5996 - accuracy: 0.6973 - val_loss: 0.6373 - val_accuracy: 0.6817\n",
            "Epoch 19/100\n",
            "4800/4800 - 1s - loss: 0.5953 - accuracy: 0.7135 - val_loss: 0.4947 - val_accuracy: 0.7567\n",
            "Epoch 20/100\n",
            "4800/4800 - 1s - loss: 0.5817 - accuracy: 0.7160 - val_loss: 0.5278 - val_accuracy: 0.7333\n",
            "Epoch 21/100\n",
            "4800/4800 - 1s - loss: 0.5800 - accuracy: 0.7237 - val_loss: 0.5185 - val_accuracy: 0.7300\n",
            "Epoch 22/100\n",
            "4800/4800 - 1s - loss: 0.5741 - accuracy: 0.7281 - val_loss: 0.5239 - val_accuracy: 0.7292\n",
            "Epoch 23/100\n",
            "4800/4800 - 1s - loss: 0.5905 - accuracy: 0.7150 - val_loss: 0.6169 - val_accuracy: 0.6917\n",
            "Epoch 24/100\n",
            "4800/4800 - 1s - loss: 0.6048 - accuracy: 0.7096 - val_loss: 0.4925 - val_accuracy: 0.7525\n",
            "Epoch 25/100\n",
            "4800/4800 - 1s - loss: 0.5780 - accuracy: 0.7196 - val_loss: 0.5095 - val_accuracy: 0.7483\n",
            "Epoch 26/100\n",
            "4800/4800 - 1s - loss: 0.6022 - accuracy: 0.7046 - val_loss: 0.5418 - val_accuracy: 0.7083\n",
            "Epoch 27/100\n",
            "4800/4800 - 1s - loss: 0.5736 - accuracy: 0.7206 - val_loss: 0.4968 - val_accuracy: 0.7625\n",
            "Epoch 28/100\n",
            "4800/4800 - 1s - loss: 0.5952 - accuracy: 0.7167 - val_loss: 0.5073 - val_accuracy: 0.7492\n",
            "Epoch 29/100\n",
            "4800/4800 - 1s - loss: 0.5678 - accuracy: 0.7302 - val_loss: 0.4997 - val_accuracy: 0.7492\n",
            "Epoch 30/100\n",
            "4800/4800 - 1s - loss: 0.5852 - accuracy: 0.7156 - val_loss: 0.5005 - val_accuracy: 0.7500\n",
            "Epoch 31/100\n",
            "4800/4800 - 1s - loss: 0.5720 - accuracy: 0.7233 - val_loss: 0.5465 - val_accuracy: 0.7192\n",
            "Epoch 32/100\n",
            "4800/4800 - 1s - loss: 0.5820 - accuracy: 0.7212 - val_loss: 0.5410 - val_accuracy: 0.7225\n",
            "Epoch 33/100\n",
            "4800/4800 - 1s - loss: 0.5784 - accuracy: 0.7200 - val_loss: 0.5121 - val_accuracy: 0.7458\n",
            "Epoch 34/100\n",
            "4800/4800 - 1s - loss: 0.5842 - accuracy: 0.7142 - val_loss: 0.5062 - val_accuracy: 0.7517\n",
            "Epoch 35/100\n",
            "4800/4800 - 1s - loss: 0.5929 - accuracy: 0.7154 - val_loss: 0.5291 - val_accuracy: 0.7275\n",
            "Epoch 36/100\n",
            "4800/4800 - 1s - loss: 0.5692 - accuracy: 0.7250 - val_loss: 0.5228 - val_accuracy: 0.7375\n",
            "Epoch 37/100\n",
            "4800/4800 - 1s - loss: 0.5897 - accuracy: 0.7206 - val_loss: 0.5538 - val_accuracy: 0.7267\n",
            "Epoch 38/100\n",
            "4800/4800 - 1s - loss: 0.5757 - accuracy: 0.7192 - val_loss: 0.5408 - val_accuracy: 0.7158\n",
            "Epoch 39/100\n",
            "4800/4800 - 1s - loss: 0.6162 - accuracy: 0.7040 - val_loss: 0.4953 - val_accuracy: 0.7567\n",
            "Epoch 40/100\n",
            "4800/4800 - 1s - loss: 0.5722 - accuracy: 0.7235 - val_loss: 0.6088 - val_accuracy: 0.6867\n",
            "Epoch 41/100\n",
            "4800/4800 - 1s - loss: 0.6061 - accuracy: 0.7069 - val_loss: 0.5171 - val_accuracy: 0.7383\n",
            "Epoch 42/100\n",
            "4800/4800 - 1s - loss: 0.5836 - accuracy: 0.7242 - val_loss: 0.5304 - val_accuracy: 0.7408\n",
            "Epoch 43/100\n",
            "4800/4800 - 1s - loss: 0.5943 - accuracy: 0.7185 - val_loss: 0.5273 - val_accuracy: 0.7392\n",
            "Epoch 44/100\n",
            "4800/4800 - 1s - loss: 0.5851 - accuracy: 0.7192 - val_loss: 0.5111 - val_accuracy: 0.7533\n",
            "Epoch 45/100\n",
            "4800/4800 - 1s - loss: 0.5545 - accuracy: 0.7356 - val_loss: 0.5216 - val_accuracy: 0.7450\n",
            "Epoch 46/100\n",
            "4800/4800 - 1s - loss: 0.6158 - accuracy: 0.7173 - val_loss: 0.5245 - val_accuracy: 0.7208\n",
            "Epoch 47/100\n",
            "4800/4800 - 1s - loss: 0.5896 - accuracy: 0.7242 - val_loss: 0.5064 - val_accuracy: 0.7400\n",
            "Epoch 48/100\n",
            "4800/4800 - 1s - loss: 0.6026 - accuracy: 0.7231 - val_loss: 0.5131 - val_accuracy: 0.7450\n",
            "Epoch 49/100\n",
            "4800/4800 - 1s - loss: 0.5724 - accuracy: 0.7252 - val_loss: 0.5462 - val_accuracy: 0.7158\n",
            "Epoch 50/100\n",
            "4800/4800 - 1s - loss: 0.5785 - accuracy: 0.7273 - val_loss: 0.5414 - val_accuracy: 0.7208\n",
            "Epoch 51/100\n",
            "4800/4800 - 1s - loss: 0.5819 - accuracy: 0.7244 - val_loss: 0.5010 - val_accuracy: 0.7592\n",
            "Epoch 52/100\n",
            "4800/4800 - 1s - loss: 0.5835 - accuracy: 0.7215 - val_loss: 0.6026 - val_accuracy: 0.6883\n",
            "Epoch 53/100\n",
            "4800/4800 - 1s - loss: 0.5808 - accuracy: 0.7221 - val_loss: 0.5246 - val_accuracy: 0.7400\n",
            "Epoch 54/100\n",
            "4800/4800 - 1s - loss: 0.5793 - accuracy: 0.7210 - val_loss: 0.6107 - val_accuracy: 0.6842\n",
            "Epoch 55/100\n",
            "4800/4800 - 1s - loss: 0.5731 - accuracy: 0.7265 - val_loss: 0.5587 - val_accuracy: 0.7058\n",
            "Epoch 56/100\n",
            "4800/4800 - 1s - loss: 0.6029 - accuracy: 0.7177 - val_loss: 0.5053 - val_accuracy: 0.7483\n",
            "Epoch 57/100\n",
            "4800/4800 - 1s - loss: 0.5923 - accuracy: 0.7173 - val_loss: 0.4838 - val_accuracy: 0.7567\n",
            "Epoch 58/100\n",
            "4800/4800 - 1s - loss: 0.5950 - accuracy: 0.7231 - val_loss: 0.5188 - val_accuracy: 0.7392\n",
            "Epoch 59/100\n",
            "4800/4800 - 1s - loss: 0.5711 - accuracy: 0.7212 - val_loss: 0.5186 - val_accuracy: 0.7283\n",
            "Epoch 60/100\n",
            "4800/4800 - 1s - loss: 0.5765 - accuracy: 0.7221 - val_loss: 0.5783 - val_accuracy: 0.7042\n",
            "Epoch 61/100\n",
            "4800/4800 - 1s - loss: 0.5882 - accuracy: 0.7177 - val_loss: 0.5179 - val_accuracy: 0.7442\n",
            "Epoch 62/100\n",
            "4800/4800 - 1s - loss: 0.5732 - accuracy: 0.7154 - val_loss: 0.5150 - val_accuracy: 0.7450\n",
            "Epoch 63/100\n",
            "4800/4800 - 1s - loss: 0.5802 - accuracy: 0.7260 - val_loss: 0.5188 - val_accuracy: 0.7417\n",
            "Epoch 64/100\n",
            "4800/4800 - 1s - loss: 0.5939 - accuracy: 0.7165 - val_loss: 0.5522 - val_accuracy: 0.7208\n",
            "Epoch 65/100\n",
            "4800/4800 - 1s - loss: 0.6011 - accuracy: 0.7163 - val_loss: 0.5150 - val_accuracy: 0.7375\n",
            "Epoch 66/100\n",
            "4800/4800 - 1s - loss: 0.5869 - accuracy: 0.7192 - val_loss: 0.5044 - val_accuracy: 0.7475\n",
            "Epoch 67/100\n",
            "4800/4800 - 1s - loss: 0.5956 - accuracy: 0.7100 - val_loss: 0.5122 - val_accuracy: 0.7375\n",
            "Epoch 68/100\n",
            "4800/4800 - 1s - loss: 0.5850 - accuracy: 0.7217 - val_loss: 0.5311 - val_accuracy: 0.7275\n",
            "Epoch 69/100\n",
            "4800/4800 - 1s - loss: 0.5787 - accuracy: 0.7219 - val_loss: 0.5039 - val_accuracy: 0.7383\n",
            "Epoch 70/100\n",
            "4800/4800 - 1s - loss: 0.5899 - accuracy: 0.7244 - val_loss: 0.7914 - val_accuracy: 0.6175\n",
            "Epoch 71/100\n",
            "4800/4800 - 1s - loss: 0.6147 - accuracy: 0.7092 - val_loss: 0.5101 - val_accuracy: 0.7367\n",
            "Epoch 72/100\n",
            "4800/4800 - 1s - loss: 0.5854 - accuracy: 0.7140 - val_loss: 0.5511 - val_accuracy: 0.7200\n",
            "Epoch 73/100\n",
            "4800/4800 - 1s - loss: 0.5702 - accuracy: 0.7208 - val_loss: 0.5125 - val_accuracy: 0.7492\n",
            "Epoch 74/100\n",
            "4800/4800 - 1s - loss: 0.5762 - accuracy: 0.7294 - val_loss: 0.5087 - val_accuracy: 0.7417\n",
            "Epoch 75/100\n",
            "4800/4800 - 1s - loss: 0.5919 - accuracy: 0.7108 - val_loss: 0.5160 - val_accuracy: 0.7450\n",
            "Epoch 76/100\n",
            "4800/4800 - 1s - loss: 0.5644 - accuracy: 0.7304 - val_loss: 0.5604 - val_accuracy: 0.7150\n",
            "Epoch 77/100\n",
            "4800/4800 - 1s - loss: 0.6001 - accuracy: 0.7065 - val_loss: 0.4983 - val_accuracy: 0.7625\n",
            "Epoch 78/100\n",
            "4800/4800 - 1s - loss: 0.5643 - accuracy: 0.7250 - val_loss: 0.5147 - val_accuracy: 0.7433\n",
            "Epoch 79/100\n",
            "4800/4800 - 1s - loss: 0.6080 - accuracy: 0.7081 - val_loss: 0.5112 - val_accuracy: 0.7467\n",
            "Epoch 80/100\n",
            "4800/4800 - 1s - loss: 0.5881 - accuracy: 0.7281 - val_loss: 0.4925 - val_accuracy: 0.7567\n",
            "Epoch 81/100\n",
            "4800/4800 - 1s - loss: 0.5836 - accuracy: 0.7275 - val_loss: 0.5008 - val_accuracy: 0.7458\n",
            "Epoch 82/100\n",
            "4800/4800 - 1s - loss: 0.5907 - accuracy: 0.7179 - val_loss: 0.4988 - val_accuracy: 0.7567\n",
            "Epoch 83/100\n",
            "4800/4800 - 1s - loss: 0.5852 - accuracy: 0.7271 - val_loss: 0.5173 - val_accuracy: 0.7392\n",
            "Epoch 84/100\n",
            "4800/4800 - 1s - loss: 0.5781 - accuracy: 0.7198 - val_loss: 0.5252 - val_accuracy: 0.7292\n",
            "Epoch 85/100\n",
            "4800/4800 - 1s - loss: 0.5739 - accuracy: 0.7204 - val_loss: 0.4994 - val_accuracy: 0.7500\n",
            "Epoch 86/100\n",
            "4800/4800 - 1s - loss: 0.5772 - accuracy: 0.7294 - val_loss: 0.5043 - val_accuracy: 0.7450\n",
            "Epoch 87/100\n",
            "4800/4800 - 1s - loss: 0.5641 - accuracy: 0.7296 - val_loss: 0.5004 - val_accuracy: 0.7517\n",
            "Epoch 88/100\n",
            "4800/4800 - 1s - loss: 0.5726 - accuracy: 0.7210 - val_loss: 0.5194 - val_accuracy: 0.7400\n",
            "Epoch 89/100\n",
            "4800/4800 - 1s - loss: 0.5986 - accuracy: 0.7179 - val_loss: 0.5182 - val_accuracy: 0.7275\n",
            "Epoch 90/100\n",
            "4800/4800 - 1s - loss: 0.5974 - accuracy: 0.7221 - val_loss: 0.5801 - val_accuracy: 0.7067\n",
            "Epoch 91/100\n",
            "4800/4800 - 1s - loss: 0.5988 - accuracy: 0.7121 - val_loss: 0.5098 - val_accuracy: 0.7350\n",
            "Epoch 92/100\n",
            "4800/4800 - 1s - loss: 0.5845 - accuracy: 0.7190 - val_loss: 0.4957 - val_accuracy: 0.7567\n",
            "Epoch 93/100\n",
            "4800/4800 - 1s - loss: 0.5772 - accuracy: 0.7269 - val_loss: 0.5648 - val_accuracy: 0.7175\n",
            "Epoch 94/100\n",
            "4800/4800 - 1s - loss: 0.5995 - accuracy: 0.7133 - val_loss: 0.5975 - val_accuracy: 0.6883\n",
            "Epoch 95/100\n",
            "4800/4800 - 1s - loss: 0.5844 - accuracy: 0.7242 - val_loss: 0.5683 - val_accuracy: 0.6983\n",
            "Epoch 96/100\n",
            "4800/4800 - 1s - loss: 0.5871 - accuracy: 0.7287 - val_loss: 0.5102 - val_accuracy: 0.7383\n",
            "Epoch 97/100\n",
            "4800/4800 - 1s - loss: 0.6023 - accuracy: 0.7142 - val_loss: 0.5172 - val_accuracy: 0.7442\n",
            "Epoch 98/100\n",
            "4800/4800 - 1s - loss: 0.5826 - accuracy: 0.7138 - val_loss: 0.5093 - val_accuracy: 0.7442\n",
            "Epoch 99/100\n",
            "4800/4800 - 1s - loss: 0.5870 - accuracy: 0.7138 - val_loss: 0.5329 - val_accuracy: 0.7167\n",
            "Epoch 100/100\n",
            "4800/4800 - 1s - loss: 0.5860 - accuracy: 0.7210 - val_loss: 0.5222 - val_accuracy: 0.7267\n",
            "\n",
            "Testing...\n",
            "1200/1200 [==============================] - 0s 125us/sample - loss: 0.5417 - accuracy: 0.7425\n",
            "測試資料集準確度 = 0.74\n"
          ]
        }
      ]
    },
    {
      "cell_type": "code",
      "source": [
        "model_LR.save('/content/resnet50_fpAll_LR.h5')"
      ],
      "metadata": {
        "id": "5B5ADeeaeL5W"
      },
      "execution_count": 33,
      "outputs": []
    },
    {
      "cell_type": "code",
      "source": [
        "# 顯示訓練和測試損失\n",
        "loss = history_LR.history['loss']\n",
        "epochs = range(1, len(loss) + 1)\n",
        "val_loss = history_LR.history['val_loss']\n",
        "plt.plot(epochs, loss, 'b-', label='Training Loss')\n",
        "plt.plot(epochs, val_loss, 'r--', label='Validation Loss')\n",
        "plt.title('Righthand/Lefthand - Training and Validation Loss')\n",
        "plt.xlabel('Epochs')\n",
        "plt.ylabel('Loss')\n",
        "plt.legend()\n",
        "plt.show()\n",
        "\n",
        "acc = history_LR.history['accuracy']\n",
        "epochs = range(1, len(acc) + 1)\n",
        "val_acc = history_LR.history['val_accuracy']\n",
        "plt.plot(epochs, acc, 'b-', label='Training acc')\n",
        "plt.plot(epochs, val_loss, 'r--', label='Validation acc')\n",
        "plt.title('Righthand/Lefthand - Training and Validation Loss')\n",
        "plt.xlabel('Epochs')\n",
        "plt.ylabel('Accuracy')\n",
        "plt.legend()\n",
        "plt.show()"
      ],
      "metadata": {
        "colab": {
          "base_uri": "https://localhost:8080/",
          "height": 573
        },
        "id": "JCxqOiaPeZLs",
        "outputId": "96401faa-a1b5-40f9-9210-652351987f36"
      },
      "execution_count": 34,
      "outputs": [
        {
          "output_type": "display_data",
          "data": {
            "text/plain": [
              "<Figure size 432x288 with 1 Axes>"
            ],
            "image/png": "[encoded data removed]"
          },
          "metadata": {
            "needs_background": "light"
          }
        },
        {
          "output_type": "display_data",
          "data": {
            "text/plain": [
              "<Figure size 432x288 with 1 Axes>"
            ],
            "image/png": "[encoded data removed]"
          },
          "metadata": {
            "needs_background": "light"
          }
        }
      ]
    },
    {
      "cell_type": "code",
      "source": [
        "#finger model\n",
        "model_f = Sequential()\n",
        "model_f.add(GlobalAveragePooling2D(input_shape=train_features.shape[1:]))\n",
        "model_f.add(Dropout(0.5))\n",
        "model_f.add(Dense(5, activation='softmax'))\n",
        "\n",
        "model_f.compile(loss='categorical_crossentropy', optimizer='adam',metrics=['accuracy'])\n",
        "\n",
        "history_f = model_f.fit(train_features,finger_label_train, validation_data=(val_features, finger_label_val),\n",
        "                    epochs=100, batch_size=32, verbose=2)\n",
        "print(\"\\nTesting...\")\n",
        "loss, accuracy = model_f.evaluate(test_features,finger_label_test,verbose=1)\n",
        "print(\"測試資料集準確度 = {:.2f}\".format(accuracy))\n"
      ],
      "metadata": {
        "colab": {
          "base_uri": "https://localhost:8080/"
        },
        "id": "z-46iUBdenai",
        "outputId": "775f25d4-4ad1-4620-8b5f-ffa85d1d5b33"
      },
      "execution_count": 35,
      "outputs": [
        {
          "output_type": "stream",
          "name": "stdout",
          "text": [
            "Train on 4800 samples, validate on 1200 samples\n",
            "Epoch 1/100\n",
            "4800/4800 - 1s - loss: 2.0078 - accuracy: 0.3683 - val_loss: 1.1880 - val_accuracy: 0.5075\n",
            "Epoch 2/100\n",
            "4800/4800 - 1s - loss: 1.4305 - accuracy: 0.4798 - val_loss: 1.1260 - val_accuracy: 0.5442\n",
            "Epoch 3/100\n",
            "4800/4800 - 1s - loss: 1.3003 - accuracy: 0.4850 - val_loss: 1.0655 - val_accuracy: 0.5617\n",
            "Epoch 4/100\n",
            "4800/4800 - 1s - loss: 1.2034 - accuracy: 0.5190 - val_loss: 1.1076 - val_accuracy: 0.5358\n",
            "Epoch 5/100\n",
            "4800/4800 - 1s - loss: 1.1719 - accuracy: 0.5367 - val_loss: 1.1479 - val_accuracy: 0.5408\n",
            "Epoch 6/100\n",
            "4800/4800 - 1s - loss: 1.1351 - accuracy: 0.5429 - val_loss: 1.0871 - val_accuracy: 0.5650\n",
            "Epoch 7/100\n",
            "4800/4800 - 1s - loss: 1.1129 - accuracy: 0.5608 - val_loss: 1.1107 - val_accuracy: 0.5675\n",
            "Epoch 8/100\n",
            "4800/4800 - 1s - loss: 1.0962 - accuracy: 0.5612 - val_loss: 1.0845 - val_accuracy: 0.5425\n",
            "Epoch 9/100\n",
            "4800/4800 - 1s - loss: 1.0663 - accuracy: 0.5740 - val_loss: 1.0426 - val_accuracy: 0.5892\n",
            "Epoch 10/100\n",
            "4800/4800 - 1s - loss: 1.0790 - accuracy: 0.5779 - val_loss: 1.0709 - val_accuracy: 0.5808\n",
            "Epoch 11/100\n",
            "4800/4800 - 1s - loss: 1.0628 - accuracy: 0.5802 - val_loss: 1.0201 - val_accuracy: 0.5925\n",
            "Epoch 12/100\n",
            "4800/4800 - 1s - loss: 1.0635 - accuracy: 0.5846 - val_loss: 1.0615 - val_accuracy: 0.5592\n",
            "Epoch 13/100\n",
            "4800/4800 - 1s - loss: 1.0783 - accuracy: 0.5733 - val_loss: 1.0262 - val_accuracy: 0.5767\n",
            "Epoch 14/100\n",
            "4800/4800 - 1s - loss: 1.0497 - accuracy: 0.5892 - val_loss: 1.0203 - val_accuracy: 0.5767\n",
            "Epoch 15/100\n",
            "4800/4800 - 1s - loss: 1.0336 - accuracy: 0.5894 - val_loss: 1.0148 - val_accuracy: 0.5967\n",
            "Epoch 16/100\n",
            "4800/4800 - 1s - loss: 1.0563 - accuracy: 0.5865 - val_loss: 1.0259 - val_accuracy: 0.5825\n",
            "Epoch 17/100\n",
            "4800/4800 - 1s - loss: 1.0584 - accuracy: 0.5840 - val_loss: 1.0266 - val_accuracy: 0.5992\n",
            "Epoch 18/100\n",
            "4800/4800 - 1s - loss: 1.0373 - accuracy: 0.5890 - val_loss: 1.0284 - val_accuracy: 0.5925\n",
            "Epoch 19/100\n",
            "4800/4800 - 1s - loss: 1.0333 - accuracy: 0.5946 - val_loss: 1.0109 - val_accuracy: 0.5967\n",
            "Epoch 20/100\n",
            "4800/4800 - 1s - loss: 1.0421 - accuracy: 0.5888 - val_loss: 1.0620 - val_accuracy: 0.5642\n",
            "Epoch 21/100\n",
            "4800/4800 - 1s - loss: 1.0231 - accuracy: 0.5994 - val_loss: 1.0922 - val_accuracy: 0.5717\n",
            "Epoch 22/100\n",
            "4800/4800 - 1s - loss: 1.0637 - accuracy: 0.5896 - val_loss: 1.0246 - val_accuracy: 0.5950\n",
            "Epoch 23/100\n",
            "4800/4800 - 1s - loss: 1.0399 - accuracy: 0.5902 - val_loss: 1.0703 - val_accuracy: 0.5942\n",
            "Epoch 24/100\n",
            "4800/4800 - 1s - loss: 1.0417 - accuracy: 0.5858 - val_loss: 1.0769 - val_accuracy: 0.5917\n",
            "Epoch 25/100\n",
            "4800/4800 - 1s - loss: 1.0639 - accuracy: 0.5890 - val_loss: 1.0062 - val_accuracy: 0.6033\n",
            "Epoch 26/100\n",
            "4800/4800 - 1s - loss: 1.0324 - accuracy: 0.5910 - val_loss: 1.0556 - val_accuracy: 0.5750\n",
            "Epoch 27/100\n",
            "4800/4800 - 1s - loss: 1.0216 - accuracy: 0.5969 - val_loss: 1.0129 - val_accuracy: 0.5933\n",
            "Epoch 28/100\n",
            "4800/4800 - 1s - loss: 1.0257 - accuracy: 0.5935 - val_loss: 1.0784 - val_accuracy: 0.5825\n",
            "Epoch 29/100\n",
            "4800/4800 - 1s - loss: 1.0379 - accuracy: 0.5879 - val_loss: 1.0869 - val_accuracy: 0.5625\n",
            "Epoch 30/100\n",
            "4800/4800 - 1s - loss: 1.0321 - accuracy: 0.5967 - val_loss: 1.0596 - val_accuracy: 0.5775\n",
            "Epoch 31/100\n",
            "4800/4800 - 1s - loss: 1.0273 - accuracy: 0.6015 - val_loss: 1.0398 - val_accuracy: 0.5842\n",
            "Epoch 32/100\n",
            "4800/4800 - 1s - loss: 1.0521 - accuracy: 0.5879 - val_loss: 1.0438 - val_accuracy: 0.5850\n",
            "Epoch 33/100\n",
            "4800/4800 - 1s - loss: 1.0307 - accuracy: 0.5960 - val_loss: 1.0911 - val_accuracy: 0.5692\n",
            "Epoch 34/100\n",
            "4800/4800 - 1s - loss: 1.0069 - accuracy: 0.6075 - val_loss: 1.0579 - val_accuracy: 0.5742\n",
            "Epoch 35/100\n",
            "4800/4800 - 1s - loss: 1.0261 - accuracy: 0.5948 - val_loss: 1.0274 - val_accuracy: 0.6050\n",
            "Epoch 36/100\n",
            "4800/4800 - 1s - loss: 1.0319 - accuracy: 0.5950 - val_loss: 1.0576 - val_accuracy: 0.5833\n",
            "Epoch 37/100\n",
            "4800/4800 - 1s - loss: 1.0300 - accuracy: 0.5990 - val_loss: 1.0483 - val_accuracy: 0.5800\n",
            "Epoch 38/100\n",
            "4800/4800 - 1s - loss: 1.0368 - accuracy: 0.5933 - val_loss: 1.1058 - val_accuracy: 0.5450\n",
            "Epoch 39/100\n",
            "4800/4800 - 1s - loss: 1.0147 - accuracy: 0.6067 - val_loss: 1.0294 - val_accuracy: 0.5883\n",
            "Epoch 40/100\n",
            "4800/4800 - 1s - loss: 1.0029 - accuracy: 0.6135 - val_loss: 1.0389 - val_accuracy: 0.6058\n",
            "Epoch 41/100\n",
            "4800/4800 - 1s - loss: 1.0527 - accuracy: 0.5883 - val_loss: 1.0631 - val_accuracy: 0.5700\n",
            "Epoch 42/100\n",
            "4800/4800 - 1s - loss: 1.0272 - accuracy: 0.5935 - val_loss: 1.0354 - val_accuracy: 0.5850\n",
            "Epoch 43/100\n",
            "4800/4800 - 1s - loss: 1.0212 - accuracy: 0.5962 - val_loss: 1.1701 - val_accuracy: 0.5408\n",
            "Epoch 44/100\n",
            "4800/4800 - 1s - loss: 1.0458 - accuracy: 0.5962 - val_loss: 1.0792 - val_accuracy: 0.5858\n",
            "Epoch 45/100\n",
            "4800/4800 - 1s - loss: 1.0262 - accuracy: 0.6031 - val_loss: 1.0844 - val_accuracy: 0.5717\n",
            "Epoch 46/100\n",
            "4800/4800 - 1s - loss: 1.0204 - accuracy: 0.6037 - val_loss: 1.0167 - val_accuracy: 0.6008\n",
            "Epoch 47/100\n",
            "4800/4800 - 1s - loss: 1.0235 - accuracy: 0.6035 - val_loss: 1.1128 - val_accuracy: 0.5675\n",
            "Epoch 48/100\n",
            "4800/4800 - 1s - loss: 1.0334 - accuracy: 0.6023 - val_loss: 1.0692 - val_accuracy: 0.5833\n",
            "Epoch 49/100\n",
            "4800/4800 - 1s - loss: 1.0320 - accuracy: 0.6019 - val_loss: 1.0589 - val_accuracy: 0.5908\n",
            "Epoch 50/100\n",
            "4800/4800 - 1s - loss: 1.0279 - accuracy: 0.6021 - val_loss: 1.0251 - val_accuracy: 0.5992\n",
            "Epoch 51/100\n",
            "4800/4800 - 1s - loss: 1.0317 - accuracy: 0.6010 - val_loss: 1.1338 - val_accuracy: 0.5742\n",
            "Epoch 52/100\n",
            "4800/4800 - 1s - loss: 1.0275 - accuracy: 0.6033 - val_loss: 1.0465 - val_accuracy: 0.5925\n",
            "Epoch 53/100\n",
            "4800/4800 - 1s - loss: 1.0307 - accuracy: 0.6025 - val_loss: 1.0193 - val_accuracy: 0.5933\n",
            "Epoch 54/100\n",
            "4800/4800 - 1s - loss: 1.0076 - accuracy: 0.6104 - val_loss: 1.0386 - val_accuracy: 0.5908\n",
            "Epoch 55/100\n",
            "4800/4800 - 1s - loss: 1.0496 - accuracy: 0.5977 - val_loss: 1.0638 - val_accuracy: 0.5983\n",
            "Epoch 56/100\n",
            "4800/4800 - 1s - loss: 0.9790 - accuracy: 0.6237 - val_loss: 1.0346 - val_accuracy: 0.5925\n",
            "Epoch 57/100\n",
            "4800/4800 - 1s - loss: 1.0263 - accuracy: 0.5992 - val_loss: 1.0864 - val_accuracy: 0.5842\n",
            "Epoch 58/100\n",
            "4800/4800 - 1s - loss: 1.0350 - accuracy: 0.6017 - val_loss: 1.0786 - val_accuracy: 0.5858\n",
            "Epoch 59/100\n",
            "4800/4800 - 1s - loss: 1.0153 - accuracy: 0.6052 - val_loss: 1.0531 - val_accuracy: 0.5850\n",
            "Epoch 60/100\n",
            "4800/4800 - 1s - loss: 1.0255 - accuracy: 0.6019 - val_loss: 1.0325 - val_accuracy: 0.5942\n",
            "Epoch 61/100\n",
            "4800/4800 - 1s - loss: 0.9948 - accuracy: 0.6135 - val_loss: 1.1030 - val_accuracy: 0.5617\n",
            "Epoch 62/100\n",
            "4800/4800 - 1s - loss: 1.0225 - accuracy: 0.6077 - val_loss: 1.0485 - val_accuracy: 0.5792\n",
            "Epoch 63/100\n",
            "4800/4800 - 1s - loss: 1.0093 - accuracy: 0.6073 - val_loss: 1.0161 - val_accuracy: 0.6017\n",
            "Epoch 64/100\n",
            "4800/4800 - 1s - loss: 0.9942 - accuracy: 0.6144 - val_loss: 1.0188 - val_accuracy: 0.6008\n",
            "Epoch 65/100\n",
            "4800/4800 - 1s - loss: 1.0266 - accuracy: 0.6087 - val_loss: 1.0552 - val_accuracy: 0.5692\n",
            "Epoch 66/100\n",
            "4800/4800 - 1s - loss: 1.0345 - accuracy: 0.6048 - val_loss: 1.0702 - val_accuracy: 0.5850\n",
            "Epoch 67/100\n",
            "4800/4800 - 1s - loss: 1.0056 - accuracy: 0.6092 - val_loss: 1.0639 - val_accuracy: 0.5658\n",
            "Epoch 68/100\n",
            "4800/4800 - 1s - loss: 1.0175 - accuracy: 0.6131 - val_loss: 1.0366 - val_accuracy: 0.5925\n",
            "Epoch 69/100\n",
            "4800/4800 - 1s - loss: 1.0371 - accuracy: 0.6025 - val_loss: 1.0475 - val_accuracy: 0.5892\n",
            "Epoch 70/100\n",
            "4800/4800 - 1s - loss: 1.0147 - accuracy: 0.6062 - val_loss: 1.0486 - val_accuracy: 0.5833\n",
            "Epoch 71/100\n",
            "4800/4800 - 1s - loss: 1.0114 - accuracy: 0.6142 - val_loss: 1.0317 - val_accuracy: 0.6033\n",
            "Epoch 72/100\n",
            "4800/4800 - 1s - loss: 1.0273 - accuracy: 0.6085 - val_loss: 1.0562 - val_accuracy: 0.5850\n",
            "Epoch 73/100\n",
            "4800/4800 - 1s - loss: 1.0090 - accuracy: 0.6106 - val_loss: 1.0345 - val_accuracy: 0.5892\n",
            "Epoch 74/100\n",
            "4800/4800 - 1s - loss: 1.0089 - accuracy: 0.6165 - val_loss: 1.0975 - val_accuracy: 0.5742\n",
            "Epoch 75/100\n",
            "4800/4800 - 1s - loss: 1.0367 - accuracy: 0.5902 - val_loss: 1.0408 - val_accuracy: 0.5917\n",
            "Epoch 76/100\n",
            "4800/4800 - 1s - loss: 1.0126 - accuracy: 0.6042 - val_loss: 1.0290 - val_accuracy: 0.6100\n",
            "Epoch 77/100\n",
            "4800/4800 - 1s - loss: 1.0290 - accuracy: 0.6110 - val_loss: 1.0475 - val_accuracy: 0.5917\n",
            "Epoch 78/100\n",
            "4800/4800 - 1s - loss: 1.0267 - accuracy: 0.6119 - val_loss: 1.0612 - val_accuracy: 0.5908\n",
            "Epoch 79/100\n",
            "4800/4800 - 1s - loss: 1.0322 - accuracy: 0.6056 - val_loss: 1.0547 - val_accuracy: 0.5767\n",
            "Epoch 80/100\n",
            "4800/4800 - 1s - loss: 1.0086 - accuracy: 0.6112 - val_loss: 1.0414 - val_accuracy: 0.5917\n",
            "Epoch 81/100\n",
            "4800/4800 - 1s - loss: 1.0172 - accuracy: 0.5987 - val_loss: 1.0405 - val_accuracy: 0.5958\n",
            "Epoch 82/100\n",
            "4800/4800 - 1s - loss: 1.0217 - accuracy: 0.6110 - val_loss: 1.1276 - val_accuracy: 0.5650\n",
            "Epoch 83/100\n",
            "4800/4800 - 1s - loss: 1.0230 - accuracy: 0.6087 - val_loss: 1.1092 - val_accuracy: 0.5908\n",
            "Epoch 84/100\n",
            "4800/4800 - 1s - loss: 1.0480 - accuracy: 0.5913 - val_loss: 1.0373 - val_accuracy: 0.5942\n",
            "Epoch 85/100\n",
            "4800/4800 - 1s - loss: 1.0210 - accuracy: 0.6033 - val_loss: 1.0176 - val_accuracy: 0.6058\n",
            "Epoch 86/100\n",
            "4800/4800 - 1s - loss: 1.0589 - accuracy: 0.5975 - val_loss: 1.0698 - val_accuracy: 0.5775\n",
            "Epoch 87/100\n",
            "4800/4800 - 1s - loss: 1.0234 - accuracy: 0.6019 - val_loss: 1.0117 - val_accuracy: 0.6067\n",
            "Epoch 88/100\n",
            "4800/4800 - 1s - loss: 1.0170 - accuracy: 0.6077 - val_loss: 1.0328 - val_accuracy: 0.6133\n",
            "Epoch 89/100\n",
            "4800/4800 - 1s - loss: 1.0013 - accuracy: 0.6162 - val_loss: 1.0629 - val_accuracy: 0.5958\n",
            "Epoch 90/100\n",
            "4800/4800 - 1s - loss: 1.0117 - accuracy: 0.6067 - val_loss: 1.0495 - val_accuracy: 0.5900\n",
            "Epoch 91/100\n",
            "4800/4800 - 1s - loss: 1.0424 - accuracy: 0.6025 - val_loss: 1.0643 - val_accuracy: 0.5883\n",
            "Epoch 92/100\n",
            "4800/4800 - 1s - loss: 1.0184 - accuracy: 0.6062 - val_loss: 1.0573 - val_accuracy: 0.5983\n",
            "Epoch 93/100\n",
            "4800/4800 - 1s - loss: 0.9989 - accuracy: 0.6196 - val_loss: 1.1162 - val_accuracy: 0.5792\n",
            "Epoch 94/100\n",
            "4800/4800 - 1s - loss: 1.0170 - accuracy: 0.6125 - val_loss: 1.0820 - val_accuracy: 0.5758\n",
            "Epoch 95/100\n",
            "4800/4800 - 1s - loss: 1.0246 - accuracy: 0.6046 - val_loss: 1.0527 - val_accuracy: 0.6017\n",
            "Epoch 96/100\n",
            "4800/4800 - 1s - loss: 1.0254 - accuracy: 0.6004 - val_loss: 1.0265 - val_accuracy: 0.5933\n",
            "Epoch 97/100\n",
            "4800/4800 - 1s - loss: 1.0098 - accuracy: 0.6108 - val_loss: 1.0494 - val_accuracy: 0.6008\n",
            "Epoch 98/100\n",
            "4800/4800 - 1s - loss: 1.0215 - accuracy: 0.6110 - val_loss: 1.0689 - val_accuracy: 0.5850\n",
            "Epoch 99/100\n",
            "4800/4800 - 1s - loss: 1.0038 - accuracy: 0.6185 - val_loss: 1.0943 - val_accuracy: 0.5725\n",
            "Epoch 100/100\n",
            "4800/4800 - 1s - loss: 1.0077 - accuracy: 0.6142 - val_loss: 1.0198 - val_accuracy: 0.5975\n",
            "\n",
            "Testing...\n",
            "1200/1200 [==============================] - 0s 117us/sample - loss: 0.9162 - accuracy: 0.6375\n",
            "測試資料集準確度 = 0.64\n"
          ]
        }
      ]
    },
    {
      "cell_type": "code",
      "source": [
        "model_f.save('/content/resnet50_fpAll_finger.h5')"
      ],
      "metadata": {
        "id": "ONsudHE1fnO2"
      },
      "execution_count": 36,
      "outputs": []
    },
    {
      "cell_type": "code",
      "source": [
        "# 顯示訓練和測試損失\n",
        "loss = history_f.history['loss']\n",
        "epochs = range(1, len(loss) + 1)\n",
        "val_loss = history_f.history['val_loss']\n",
        "plt.plot(epochs, loss, 'b-', label='Training Loss')\n",
        "plt.plot(epochs, val_loss, 'r--', label='Validation Loss')\n",
        "plt.title('Fingers - Training and Validation Loss')\n",
        "plt.xlabel('Epochs')\n",
        "plt.ylabel('Loss')\n",
        "plt.legend()\n",
        "plt.show()\n",
        "\n",
        "acc = history_f.history['accuracy']\n",
        "epochs = range(1, len(acc) + 1)\n",
        "val_acc = history_f.history['val_accuracy']\n",
        "plt.plot(epochs, acc, 'b-', label='Training acc')\n",
        "plt.plot(epochs, val_loss, 'r--', label='Validation acc')\n",
        "plt.title('Fingers - Training and Validation Loss')\n",
        "plt.xlabel('Epochs')\n",
        "plt.ylabel('Accuracy')\n",
        "plt.legend()\n",
        "plt.show()"
      ],
      "metadata": {
        "colab": {
          "base_uri": "https://localhost:8080/",
          "height": 573
        },
        "id": "bV8r7VAQfz04",
        "outputId": "935edc1e-94b6-48d0-d198-c0e6f9a1dae7"
      },
      "execution_count": 37,
      "outputs": [
        {
          "output_type": "display_data",
          "data": {
            "text/plain": [
              "<Figure size 432x288 with 1 Axes>"
            ],
            "image/png": "[encoded data removed]"
          },
          "metadata": {
            "needs_background": "light"
          }
        },
        {
          "output_type": "display_data",
          "data": {
            "text/plain": [
              "<Figure size 432x288 with 1 Axes>"
            ],
            "image/png": "[encoded data removed]"
          },
          "metadata": {
            "needs_background": "light"
          }
        }
      ]
    }
  ]
}